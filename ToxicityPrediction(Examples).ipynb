{
 "cells": [
  {
   "cell_type": "markdown",
   "id": "c9633ca0",
   "metadata": {
    "id": "KNjSQgwNGdhZ"
   },
   "source": [
    "# **Examples of Toxicity Prediction**"
   ]
  },
  {
   "cell_type": "markdown",
   "id": "c476e56a",
   "metadata": {
    "id": "LWiGWYhvG6Ya"
   },
   "source": [
    "In this section examples of toxicity prediction will be provided."
   ]
  },
  {
   "cell_type": "markdown",
   "id": "204c1c6b",
   "metadata": {
    "id": "EC4h_GwIIb5g"
   },
   "source": [
    "**Install RD-Kit.**"
   ]
  },
  {
   "cell_type": "markdown",
   "id": "5a1c1c64",
   "metadata": {
    "id": "xewdBMJeIpqW"
   },
   "source": [
    "RD-Kit is an open-source Python package for data scientists to work with chemistry data."
   ]
  },
  {
   "cell_type": "code",
   "execution_count": null,
   "id": "22e865a1",
   "metadata": {
    "colab": {
     "base_uri": "https://localhost:8080/"
    },
    "id": "9Bs6O94z8zB-",
    "outputId": "8d0393bc-955e-4486-ade6-29552e3b8469",
    "scrolled": true
   },
   "outputs": [
    {
     "name": "stdout",
     "output_type": "stream",
     "text": [
      "Collecting rdkit\n",
      "  Downloading rdkit-2023.9.6-cp310-cp310-manylinux_2_17_x86_64.manylinux2014_x86_64.whl (34.9 MB)\n",
      "\u001b[2K     \u001b[90m━━━━━━━━━━━━━━━━━━━━━━━━━━━━━━━━━━━━━━━━\u001b[0m \u001b[32m34.9/34.9 MB\u001b[0m \u001b[31m11.5 MB/s\u001b[0m eta \u001b[36m0:00:00\u001b[0m\n",
      "\u001b[?25hRequirement already satisfied: numpy in /usr/local/lib/python3.10/dist-packages (from rdkit) (1.25.2)\n",
      "Requirement already satisfied: Pillow in /usr/local/lib/python3.10/dist-packages (from rdkit) (9.4.0)\n",
      "Installing collected packages: rdkit\n",
      "Successfully installed rdkit-2023.9.6\n"
     ]
    }
   ],
   "source": [
    "! pip install rdkit"
   ]
  },
  {
   "cell_type": "markdown",
   "id": "06e19ebd",
   "metadata": {
    "id": "X2pY9C_OMiUq"
   },
   "source": [
    "**Install the other required packages.**"
   ]
  },
  {
   "cell_type": "code",
   "execution_count": null,
   "id": "e87499bf",
   "metadata": {
    "colab": {
     "base_uri": "https://localhost:8080/"
    },
    "id": "GZYm_pAYKViW",
    "outputId": "388d5387-a44a-4d69-ce12-0d63ef7dc1c9",
    "scrolled": true
   },
   "outputs": [
    {
     "name": "stdout",
     "output_type": "stream",
     "text": [
      "Collecting py3Dmol\n",
      "  Downloading py3Dmol-2.1.0-py2.py3-none-any.whl (12 kB)\n",
      "Installing collected packages: py3Dmol\n",
      "Successfully installed py3Dmol-2.1.0\n"
     ]
    }
   ],
   "source": [
    "! pip install py3Dmol"
   ]
  },
  {
   "cell_type": "code",
   "execution_count": null,
   "id": "52d20e66",
   "metadata": {
    "colab": {
     "base_uri": "https://localhost:8080/"
    },
    "id": "xdhky-YEKsUC",
    "outputId": "04602082-f127-4787-cc7e-3dc132ffdde7",
    "scrolled": true
   },
   "outputs": [
    {
     "name": "stdout",
     "output_type": "stream",
     "text": [
      "Collecting mol2vec\n",
      "  Downloading mol2vec-0.2.2-py3-none-any.whl (15 kB)\n",
      "Requirement already satisfied: gensim in /usr/local/lib/python3.10/dist-packages (4.3.2)\n",
      "Requirement already satisfied: numpy in /usr/local/lib/python3.10/dist-packages (from mol2vec) (1.25.2)\n",
      "Requirement already satisfied: tqdm in /usr/local/lib/python3.10/dist-packages (from mol2vec) (4.66.4)\n",
      "Requirement already satisfied: joblib in /usr/local/lib/python3.10/dist-packages (from mol2vec) (1.4.2)\n",
      "Requirement already satisfied: pandas in /usr/local/lib/python3.10/dist-packages (from mol2vec) (2.0.3)\n",
      "Requirement already satisfied: matplotlib in /usr/local/lib/python3.10/dist-packages (from mol2vec) (3.7.1)\n",
      "Requirement already satisfied: IPython in /usr/local/lib/python3.10/dist-packages (from mol2vec) (7.34.0)\n",
      "Requirement already satisfied: seaborn in /usr/local/lib/python3.10/dist-packages (from mol2vec) (0.13.1)\n",
      "Requirement already satisfied: scipy>=1.7.0 in /usr/local/lib/python3.10/dist-packages (from gensim) (1.11.4)\n",
      "Requirement already satisfied: smart-open>=1.8.1 in /usr/local/lib/python3.10/dist-packages (from gensim) (6.4.0)\n",
      "Requirement already satisfied: setuptools>=18.5 in /usr/local/lib/python3.10/dist-packages (from IPython->mol2vec) (67.7.2)\n",
      "Collecting jedi>=0.16 (from IPython->mol2vec)\n",
      "  Downloading jedi-0.19.1-py2.py3-none-any.whl (1.6 MB)\n",
      "\u001b[2K     \u001b[90m━━━━━━━━━━━━━━━━━━━━━━━━━━━━━━━━━━━━━━━━\u001b[0m \u001b[32m1.6/1.6 MB\u001b[0m \u001b[31m13.5 MB/s\u001b[0m eta \u001b[36m0:00:00\u001b[0m\n",
      "\u001b[?25hRequirement already satisfied: decorator in /usr/local/lib/python3.10/dist-packages (from IPython->mol2vec) (4.4.2)\n",
      "Requirement already satisfied: pickleshare in /usr/local/lib/python3.10/dist-packages (from IPython->mol2vec) (0.7.5)\n",
      "Requirement already satisfied: traitlets>=4.2 in /usr/local/lib/python3.10/dist-packages (from IPython->mol2vec) (5.7.1)\n",
      "Requirement already satisfied: prompt-toolkit!=3.0.0,!=3.0.1,<3.1.0,>=2.0.0 in /usr/local/lib/python3.10/dist-packages (from IPython->mol2vec) (3.0.43)\n",
      "Requirement already satisfied: pygments in /usr/local/lib/python3.10/dist-packages (from IPython->mol2vec) (2.16.1)\n",
      "Requirement already satisfied: backcall in /usr/local/lib/python3.10/dist-packages (from IPython->mol2vec) (0.2.0)\n",
      "Requirement already satisfied: matplotlib-inline in /usr/local/lib/python3.10/dist-packages (from IPython->mol2vec) (0.1.7)\n",
      "Requirement already satisfied: pexpect>4.3 in /usr/local/lib/python3.10/dist-packages (from IPython->mol2vec) (4.9.0)\n",
      "Requirement already satisfied: contourpy>=1.0.1 in /usr/local/lib/python3.10/dist-packages (from matplotlib->mol2vec) (1.2.1)\n",
      "Requirement already satisfied: cycler>=0.10 in /usr/local/lib/python3.10/dist-packages (from matplotlib->mol2vec) (0.12.1)\n",
      "Requirement already satisfied: fonttools>=4.22.0 in /usr/local/lib/python3.10/dist-packages (from matplotlib->mol2vec) (4.51.0)\n",
      "Requirement already satisfied: kiwisolver>=1.0.1 in /usr/local/lib/python3.10/dist-packages (from matplotlib->mol2vec) (1.4.5)\n",
      "Requirement already satisfied: packaging>=20.0 in /usr/local/lib/python3.10/dist-packages (from matplotlib->mol2vec) (24.0)\n",
      "Requirement already satisfied: pillow>=6.2.0 in /usr/local/lib/python3.10/dist-packages (from matplotlib->mol2vec) (9.4.0)\n",
      "Requirement already satisfied: pyparsing>=2.3.1 in /usr/local/lib/python3.10/dist-packages (from matplotlib->mol2vec) (3.1.2)\n",
      "Requirement already satisfied: python-dateutil>=2.7 in /usr/local/lib/python3.10/dist-packages (from matplotlib->mol2vec) (2.8.2)\n",
      "Requirement already satisfied: pytz>=2020.1 in /usr/local/lib/python3.10/dist-packages (from pandas->mol2vec) (2023.4)\n",
      "Requirement already satisfied: tzdata>=2022.1 in /usr/local/lib/python3.10/dist-packages (from pandas->mol2vec) (2024.1)\n",
      "Requirement already satisfied: parso<0.9.0,>=0.8.3 in /usr/local/lib/python3.10/dist-packages (from jedi>=0.16->IPython->mol2vec) (0.8.4)\n",
      "Requirement already satisfied: ptyprocess>=0.5 in /usr/local/lib/python3.10/dist-packages (from pexpect>4.3->IPython->mol2vec) (0.7.0)\n",
      "Requirement already satisfied: wcwidth in /usr/local/lib/python3.10/dist-packages (from prompt-toolkit!=3.0.0,!=3.0.1,<3.1.0,>=2.0.0->IPython->mol2vec) (0.2.13)\n",
      "Requirement already satisfied: six>=1.5 in /usr/local/lib/python3.10/dist-packages (from python-dateutil>=2.7->matplotlib->mol2vec) (1.16.0)\n",
      "Installing collected packages: jedi, mol2vec\n",
      "Successfully installed jedi-0.19.1 mol2vec-0.2.2\n"
     ]
    }
   ],
   "source": [
    "! pip install mol2vec gensim"
   ]
  },
  {
   "cell_type": "code",
   "execution_count": null,
   "id": "58b19177",
   "metadata": {
    "colab": {
     "base_uri": "https://localhost:8080/"
    },
    "id": "oEcynrWxL4Ac",
    "outputId": "ab64a28f-551f-478f-b23b-bd9a3bbb039b",
    "scrolled": false
   },
   "outputs": [
    {
     "name": "stdout",
     "output_type": "stream",
     "text": [
      "Requirement already satisfied: xgboost in /usr/local/lib/python3.10/dist-packages (2.0.3)\n",
      "Requirement already satisfied: numpy in /usr/local/lib/python3.10/dist-packages (from xgboost) (1.25.2)\n",
      "Requirement already satisfied: scipy in /usr/local/lib/python3.10/dist-packages (from xgboost) (1.11.4)\n",
      "Requirement already satisfied: lightgbm in /usr/local/lib/python3.10/dist-packages (4.1.0)\n",
      "Requirement already satisfied: numpy in /usr/local/lib/python3.10/dist-packages (from lightgbm) (1.25.2)\n",
      "Requirement already satisfied: scipy in /usr/local/lib/python3.10/dist-packages (from lightgbm) (1.11.4)\n"
     ]
    }
   ],
   "source": [
    "! pip install xgboost\n",
    "! pip install lightgbm"
   ]
  },
  {
   "cell_type": "markdown",
   "id": "3b49d644",
   "metadata": {
    "id": "yygLKTZTGbdT"
   },
   "source": [
    "**Import necessary libraries and modules.**"
   ]
  },
  {
   "cell_type": "code",
   "execution_count": null,
   "id": "237333ff",
   "metadata": {
    "id": "bxFf1OGzJTRL"
   },
   "outputs": [],
   "source": [
    "import pandas as pd\n",
    "import requests\n",
    "import numpy as np\n",
    "import os\n",
    "import matplotlib.pyplot as plt\n",
    "import seaborn as sns\n",
    "import joblib\n",
    "import tensorflow as tf\n",
    "import warnings\n",
    "from rdkit import Chem\n",
    "from rdkit.Chem import PandasTools\n",
    "from rdkit.Chem import Draw\n",
    "import py3Dmol\n",
    "from ipywidgets import interact,fixed,IntSlider\n",
    "import ipywidgets\n",
    "from rdkit.Chem import Crippen\n",
    "from rdkit.Chem import rdMolDescriptors\n",
    "from rdkit.Chem import Descriptors\n",
    "from rdkit.Chem import MolFromSmiles\n",
    "from mol2vec.features import mol2alt_sentence, MolSentence\n",
    "import gensim\n",
    "import pickle\n",
    "from mol2vec.features import mol2sentence, DfVec, sentences2vec\n",
    "from mol2vec.helpers import depict_identifier, plot_2D_vectors, IdentifierTable, mol_to_svg\n",
    "from gensim.models import Word2Vec\n",
    "from sklearn.experimental import enable_hist_gradient_boosting\n",
    "from sklearn.ensemble import HistGradientBoostingClassifier\n",
    "from sklearn.model_selection import train_test_split\n",
    "from sklearn.metrics import classification_report, accuracy_score\n",
    "from imblearn.over_sampling import SMOTE\n",
    "from sklearn.ensemble import RandomForestClassifier, AdaBoostClassifier\n",
    "from sklearn.svm import SVC\n",
    "from sklearn.preprocessing import StandardScaler\n",
    "from sklearn.compose import ColumnTransformer\n",
    "import xgboost as xgb\n",
    "import lightgbm as lgb\n",
    "from tensorflow.keras.models import Sequential\n",
    "from tensorflow.keras.layers import Dense, Dropout, BatchNormalization\n",
    "from tensorflow.keras.optimizers import Adam\n",
    "from tensorflow.keras.callbacks import ReduceLROnPlateau\n",
    "from tensorflow.keras.utils import to_categorical\n",
    "from tensorflow.keras.models import load_model\n",
    "from sklearn.pipeline import Pipeline"
   ]
  },
  {
   "cell_type": "markdown",
   "id": "45349df1",
   "metadata": {
    "id": "JLPKo3otESlC"
   },
   "source": [
    "**Load models**"
   ]
  },
  {
   "cell_type": "code",
   "execution_count": null,
   "id": "762172b8",
   "metadata": {
    "colab": {
     "base_uri": "https://localhost:8080/"
    },
    "id": "Oa1GCS6LCPW6",
    "outputId": "00a668e9-584e-43ee-a031-29c96fec4105"
   },
   "outputs": [
    {
     "name": "stdout",
     "output_type": "stream",
     "text": [
      "Model for SR-HSE loaded successfully.\n",
      "Model for NR-AR loaded successfully.\n",
      "Model for SR-ARE loaded successfully.\n",
      "Model for NR-Aromatase loaded successfully.\n",
      "Model for NR-ER-LBD loaded successfully.\n",
      "Model for NR-AhR loaded successfully.\n",
      "Model for SR-MMP loaded successfully.\n",
      "Model for NR-ER loaded successfully.\n",
      "Model for NR-PPAR-gamma loaded successfully.\n",
      "Model for SR-p53 loaded successfully.\n",
      "Model for SR-ATAD5 loaded successfully.\n",
      "Model for NR-AR-LBD loaded successfully.\n"
     ]
    }
   ],
   "source": [
    "save_dir = \"/content/drive/My Drive/saved_models/model_6\"\n",
    "\n",
    "models_6 = {}\n",
    "for col in target_columns:\n",
    "    model_path = os.path.join(save_dir, f\"model_6_{col}.pkl\")\n",
    "    if os.path.exists(model_path):\n",
    "        model_loaded = joblib.load(model_path)\n",
    "        models_6[col] = model_loaded\n",
    "        print(f\"Model for {col} loaded successfully.\")\n",
    "    else:\n",
    "        print(f\"Model file for {col} does not exist.\")"
   ]
  },
  {
   "cell_type": "markdown",
   "id": "75e7bdaf",
   "metadata": {
    "id": "99TNKhzW5mn9"
   },
   "source": [
    "*3D visualization*"
   ]
  },
  {
   "cell_type": "code",
   "execution_count": null,
   "id": "efe84586",
   "metadata": {
    "colab": {
     "base_uri": "https://localhost:8080/",
     "height": 416,
     "referenced_widgets": [
      "15f2d163b52d4489bb582f9058dd2a25",
      "c74778fbceb6495c85b7f38cc62eda1e",
      "bca5d0843f2c4d92a0832a3a69cdd687",
      "495726e4c59549d48d69c3f254792376",
      "5b4dffaa508d4c5187aab98ad7a58a1c",
      "cfac31403fb54d87a8233fb6a9a5b5ef",
      "7fff0a5440be4fd387619fb4f5b27261",
      "9d3bcba6c1994d8ca13f09e182f71944",
      "cbdcd2c90402413a9a9c5c8af7c273ce",
      "9a7a127032cd48ef884ffc2e7a466d88"
     ]
    },
    "id": "PU_caFjuPiKn",
    "outputId": "98618d80-ae16-4b86-cf97-d6f7f011c601"
   },
   "outputs": [
    {
     "data": {
      "application/vnd.jupyter.widget-view+json": {
       "model_id": "15f2d163b52d4489bb582f9058dd2a25",
       "version_major": 2,
       "version_minor": 0
      },
      "text/plain": [
       "interactive(children=(IntSlider(value=3064, description='Molecule', max=11763), Dropdown(description='Style:',…"
      ]
     },
     "metadata": {},
     "output_type": "display_data"
    }
   ],
   "source": [
    "def show3D_molecule(idx, style):\n",
    "    \"\"\"\n",
    "    Show molecule in 3D\n",
    "    \"\"\"\n",
    "    mblock = Chem.MolToMolBlock(df['ROMol'].iloc[idx])\n",
    "    viewer = py3Dmol.view(width=300, height=300)\n",
    "    viewer.addModel(mblock, 'ROMol')\n",
    "    viewer.setStyle({style:{}})\n",
    "    viewer.rotate(45, \"y\", animationDuration=1)\n",
    "\n",
    "    viewer.zoomTo()\n",
    "\n",
    "    print(f\"SMILES notation: {df['SMILES'].iloc[idx]}\\nRotate me!\");\n",
    "\n",
    "    return viewer.show()\n",
    "\n",
    "interact(show3D_molecule,\n",
    "         idx=ipywidgets.IntSlider(min=0,max=len(df[\"ROMol\"])-1,\n",
    "                                  step=1, value=3064,\n",
    "                                  description=\"Molecule\"),\n",
    "         style=ipywidgets.Dropdown(options=['line', 'stick', 'sphere'],\n",
    "                                   value='stick',\n",
    "                                   description='Style:'));"
   ]
  },
  {
   "cell_type": "markdown",
   "id": "21f2e316",
   "metadata": {
    "id": "hTLU47jkSTiu"
   },
   "source": [
    "**Plot random examples with their predicted and actual toxicity.**"
   ]
  },
  {
   "cell_type": "code",
   "execution_count": null,
   "id": "84348800",
   "metadata": {
    "id": "lx1BsRKRDMEf"
   },
   "outputs": [],
   "source": [
    "def plot_example(models, X_test, y_test, df, idx=0, show_3d=True):\n",
    "    feature_columns = df.columns.difference(['Formula', 'FW', 'DSSTox_CID', 'ID', 'ROMol', 'SMILES', 'mol2vec', 'sentence'] + target_columns)\n",
    "    X_test_df = pd.DataFrame(X_test, columns=feature_columns)\n",
    "\n",
    "    # Reseting the index of X_test_df\n",
    "    X_test_df.reset_index(drop=True, inplace=True)\n",
    "\n",
    "    for col, model in models.items():\n",
    "        prediction = np.squeeze(model.predict(np.expand_dims(X_test_df.iloc[idx], 0))[0])\n",
    "\n",
    "        # Filtering df to drop NaN values for the current assay column\n",
    "        filtered_df = df.dropna(subset=[col])\n",
    "\n",
    "        # Reseting the index of filtered_df\n",
    "        filtered_df.reset_index(drop=True, inplace=True)\n",
    "\n",
    "        # Getting the target value for the current sample\n",
    "        target = filtered_df.loc[X_test_df.index[idx], col]\n",
    "\n",
    "        if show_3d:\n",
    "            show3D_molecule(X_test_df.index[idx], \"stick\")\n",
    "        else:\n",
    "            display(df.loc[X_test_df.index[idx], \"ROMol\"])\n",
    "\n",
    "        smiles = df.loc[X_test_df.index[idx], \"SMILES\"]\n",
    "\n",
    "        print(f\"SMILES notation: {smiles}\")\n",
    "        print(f\"Target {col} = {target}, Predictions {col} = {prediction}\")\n",
    "        print(\"=\"*50)"
   ]
  },
  {
   "cell_type": "code",
   "execution_count": null,
   "id": "ba526d9a",
   "metadata": {
    "colab": {
     "base_uri": "https://localhost:8080/",
     "height": 1000
    },
    "id": "5uN6BvmJJawS",
    "outputId": "18fb0e37-e947-48a8-f14b-cec6491f4425"
   },
   "outputs": [
    {
     "name": "stdout",
     "output_type": "stream",
     "text": [
      "SMILES notation: CC(C)(CO)[C@@H](O)C(=O)NCCCO\n",
      "Rotate me!\n"
     ]
    },
    {
     "data": {
      "application/3dmoljs_load.v0": "<div id=\"3dmolviewer_1717380182753267\"  style=\"position: relative; width: 300px; height: 300px;\">\n        <p id=\"3dmolwarning_1717380182753267\" style=\"background-color:#ffcccc;color:black\">3Dmol.js failed to load for some reason.  Please check your browser console for error messages.<br></p>\n        </div>\n<script>\n\nvar loadScriptAsync = function(uri){\n  return new Promise((resolve, reject) => {\n    //this is to ignore the existence of requirejs amd\n    var savedexports, savedmodule;\n    if (typeof exports !== 'undefined') savedexports = exports;\n    else exports = {}\n    if (typeof module !== 'undefined') savedmodule = module;\n    else module = {}\n\n    var tag = document.createElement('script');\n    tag.src = uri;\n    tag.async = true;\n    tag.onload = () => {\n        exports = savedexports;\n        module = savedmodule;\n        resolve();\n    };\n  var firstScriptTag = document.getElementsByTagName('script')[0];\n  firstScriptTag.parentNode.insertBefore(tag, firstScriptTag);\n});\n};\n\nif(typeof $3Dmolpromise === 'undefined') {\n$3Dmolpromise = null;\n  $3Dmolpromise = loadScriptAsync('https://cdnjs.cloudflare.com/ajax/libs/3Dmol/2.1.0/3Dmol-min.js');\n}\n\nvar viewer_1717380182753267 = null;\nvar warn = document.getElementById(\"3dmolwarning_1717380182753267\");\nif(warn) {\n    warn.parentNode.removeChild(warn);\n}\n$3Dmolpromise.then(function() {\nviewer_1717380182753267 = $3Dmol.createViewer(document.getElementById(\"3dmolviewer_1717380182753267\"),{backgroundColor:\"white\"});\nviewer_1717380182753267.zoomTo();\n\tviewer_1717380182753267.addModel(\"NCGC00186658-01\\n     RDKit          2D\\n\\n 14 13  0  0  1  0  0  0  0  0999 V2000\\n    1.4259   -0.7186    0.0000 C   0  0  0  0  0  0  0  0  0  0  0  0\\n    2.1445   -0.2952    0.0000 C   0  0  0  0  0  0  0  0  0  0  0  0\\n    1.0193    0.0000    0.0000 C   0  0  0  0  0  0  0  0  0  0  0  0\\n    1.8492   -1.4259    0.0000 C   0  0  0  0  0  0  0  0  0  0  0  0\\n    1.4259   -2.1445    0.0000 O   0  0  0  0  0  0  0  0  0  0  0  0\\n    2.6736   -1.4259    0.0000 C   0  0  0  0  0  0  0  0  0  0  0  0\\n    3.0858   -2.1445    0.0000 O   0  0  0  0  0  0  0  0  0  0  0  0\\n    3.0858   -0.7186    0.0000 N   0  0  0  0  0  0  0  0  0  0  0  0\\n    3.9157   -0.7186    0.0000 C   0  0  0  0  0  0  0  0  0  0  0  0\\n    4.3335   -1.4259    0.0000 C   0  0  0  0  0  0  0  0  0  0  0  0\\n    5.1635   -1.4259    0.0000 C   0  0  0  0  0  0  0  0  0  0  0  0\\n    5.5701   -2.1445    0.0000 O   0  0  0  0  0  0  0  0  0  0  0  0\\n    0.7186   -1.1252    0.0000 C   0  0  0  0  0  0  0  0  0  0  0  0\\n    0.0000   -0.7186    0.0000 O   0  0  0  0  0  0  0  0  0  0  0  0\\n  1  2  1  0\\n  1  3  1  0\\n  1  4  1  0\\n  1 13  1  0\\n  4  5  1  6\\n  4  6  1  0\\n  6  7  2  0\\n  6  8  1  0\\n  8  9  1  0\\n  9 10  1  0\\n 10 11  1  0\\n 11 12  1  0\\n 13 14  1  0\\nM  END\\n\",\"ROMol\");\n\tviewer_1717380182753267.setStyle({\"stick\": {}});\n\tviewer_1717380182753267.rotate(45,\"y\");\n\tviewer_1717380182753267.zoomTo();\nviewer_1717380182753267.render();\n});\n</script>",
      "text/html": [
       "<div id=\"3dmolviewer_1717380182753267\"  style=\"position: relative; width: 300px; height: 300px;\">\n",
       "        <p id=\"3dmolwarning_1717380182753267\" style=\"background-color:#ffcccc;color:black\">3Dmol.js failed to load for some reason.  Please check your browser console for error messages.<br></p>\n",
       "        </div>\n",
       "<script>\n",
       "\n",
       "var loadScriptAsync = function(uri){\n",
       "  return new Promise((resolve, reject) => {\n",
       "    //this is to ignore the existence of requirejs amd\n",
       "    var savedexports, savedmodule;\n",
       "    if (typeof exports !== 'undefined') savedexports = exports;\n",
       "    else exports = {}\n",
       "    if (typeof module !== 'undefined') savedmodule = module;\n",
       "    else module = {}\n",
       "\n",
       "    var tag = document.createElement('script');\n",
       "    tag.src = uri;\n",
       "    tag.async = true;\n",
       "    tag.onload = () => {\n",
       "        exports = savedexports;\n",
       "        module = savedmodule;\n",
       "        resolve();\n",
       "    };\n",
       "  var firstScriptTag = document.getElementsByTagName('script')[0];\n",
       "  firstScriptTag.parentNode.insertBefore(tag, firstScriptTag);\n",
       "});\n",
       "};\n",
       "\n",
       "if(typeof $3Dmolpromise === 'undefined') {\n",
       "$3Dmolpromise = null;\n",
       "  $3Dmolpromise = loadScriptAsync('https://cdnjs.cloudflare.com/ajax/libs/3Dmol/2.1.0/3Dmol-min.js');\n",
       "}\n",
       "\n",
       "var viewer_1717380182753267 = null;\n",
       "var warn = document.getElementById(\"3dmolwarning_1717380182753267\");\n",
       "if(warn) {\n",
       "    warn.parentNode.removeChild(warn);\n",
       "}\n",
       "$3Dmolpromise.then(function() {\n",
       "viewer_1717380182753267 = $3Dmol.createViewer(document.getElementById(\"3dmolviewer_1717380182753267\"),{backgroundColor:\"white\"});\n",
       "viewer_1717380182753267.zoomTo();\n",
       "\tviewer_1717380182753267.addModel(\"NCGC00186658-01\\n     RDKit          2D\\n\\n 14 13  0  0  1  0  0  0  0  0999 V2000\\n    1.4259   -0.7186    0.0000 C   0  0  0  0  0  0  0  0  0  0  0  0\\n    2.1445   -0.2952    0.0000 C   0  0  0  0  0  0  0  0  0  0  0  0\\n    1.0193    0.0000    0.0000 C   0  0  0  0  0  0  0  0  0  0  0  0\\n    1.8492   -1.4259    0.0000 C   0  0  0  0  0  0  0  0  0  0  0  0\\n    1.4259   -2.1445    0.0000 O   0  0  0  0  0  0  0  0  0  0  0  0\\n    2.6736   -1.4259    0.0000 C   0  0  0  0  0  0  0  0  0  0  0  0\\n    3.0858   -2.1445    0.0000 O   0  0  0  0  0  0  0  0  0  0  0  0\\n    3.0858   -0.7186    0.0000 N   0  0  0  0  0  0  0  0  0  0  0  0\\n    3.9157   -0.7186    0.0000 C   0  0  0  0  0  0  0  0  0  0  0  0\\n    4.3335   -1.4259    0.0000 C   0  0  0  0  0  0  0  0  0  0  0  0\\n    5.1635   -1.4259    0.0000 C   0  0  0  0  0  0  0  0  0  0  0  0\\n    5.5701   -2.1445    0.0000 O   0  0  0  0  0  0  0  0  0  0  0  0\\n    0.7186   -1.1252    0.0000 C   0  0  0  0  0  0  0  0  0  0  0  0\\n    0.0000   -0.7186    0.0000 O   0  0  0  0  0  0  0  0  0  0  0  0\\n  1  2  1  0\\n  1  3  1  0\\n  1  4  1  0\\n  1 13  1  0\\n  4  5  1  6\\n  4  6  1  0\\n  6  7  2  0\\n  6  8  1  0\\n  8  9  1  0\\n  9 10  1  0\\n 10 11  1  0\\n 11 12  1  0\\n 13 14  1  0\\nM  END\\n\",\"ROMol\");\n",
       "\tviewer_1717380182753267.setStyle({\"stick\": {}});\n",
       "\tviewer_1717380182753267.rotate(45,\"y\");\n",
       "\tviewer_1717380182753267.zoomTo();\n",
       "viewer_1717380182753267.render();\n",
       "});\n",
       "</script>"
      ]
     },
     "metadata": {},
     "output_type": "display_data"
    },
    {
     "name": "stdout",
     "output_type": "stream",
     "text": [
      "SMILES notation: CN(C(=O)CN(CCO)CC(=O)N(C)C(C)(C)Cc1ccccc1)C(C)(C)Cc1ccccc1\n",
      "Target SR-HSE = 0, Predictions SR-HSE = 0\n",
      "==================================================\n",
      "SMILES notation: CC(C)(CO)[C@@H](O)C(=O)NCCCO\n",
      "Rotate me!\n"
     ]
    },
    {
     "data": {
      "application/3dmoljs_load.v0": "<div id=\"3dmolviewer_1717380182783288\"  style=\"position: relative; width: 300px; height: 300px;\">\n        <p id=\"3dmolwarning_1717380182783288\" style=\"background-color:#ffcccc;color:black\">3Dmol.js failed to load for some reason.  Please check your browser console for error messages.<br></p>\n        </div>\n<script>\n\nvar loadScriptAsync = function(uri){\n  return new Promise((resolve, reject) => {\n    //this is to ignore the existence of requirejs amd\n    var savedexports, savedmodule;\n    if (typeof exports !== 'undefined') savedexports = exports;\n    else exports = {}\n    if (typeof module !== 'undefined') savedmodule = module;\n    else module = {}\n\n    var tag = document.createElement('script');\n    tag.src = uri;\n    tag.async = true;\n    tag.onload = () => {\n        exports = savedexports;\n        module = savedmodule;\n        resolve();\n    };\n  var firstScriptTag = document.getElementsByTagName('script')[0];\n  firstScriptTag.parentNode.insertBefore(tag, firstScriptTag);\n});\n};\n\nif(typeof $3Dmolpromise === 'undefined') {\n$3Dmolpromise = null;\n  $3Dmolpromise = loadScriptAsync('https://cdnjs.cloudflare.com/ajax/libs/3Dmol/2.1.0/3Dmol-min.js');\n}\n\nvar viewer_1717380182783288 = null;\nvar warn = document.getElementById(\"3dmolwarning_1717380182783288\");\nif(warn) {\n    warn.parentNode.removeChild(warn);\n}\n$3Dmolpromise.then(function() {\nviewer_1717380182783288 = $3Dmol.createViewer(document.getElementById(\"3dmolviewer_1717380182783288\"),{backgroundColor:\"white\"});\nviewer_1717380182783288.zoomTo();\n\tviewer_1717380182783288.addModel(\"NCGC00186658-01\\n     RDKit          2D\\n\\n 14 13  0  0  1  0  0  0  0  0999 V2000\\n    1.4259   -0.7186    0.0000 C   0  0  0  0  0  0  0  0  0  0  0  0\\n    2.1445   -0.2952    0.0000 C   0  0  0  0  0  0  0  0  0  0  0  0\\n    1.0193    0.0000    0.0000 C   0  0  0  0  0  0  0  0  0  0  0  0\\n    1.8492   -1.4259    0.0000 C   0  0  0  0  0  0  0  0  0  0  0  0\\n    1.4259   -2.1445    0.0000 O   0  0  0  0  0  0  0  0  0  0  0  0\\n    2.6736   -1.4259    0.0000 C   0  0  0  0  0  0  0  0  0  0  0  0\\n    3.0858   -2.1445    0.0000 O   0  0  0  0  0  0  0  0  0  0  0  0\\n    3.0858   -0.7186    0.0000 N   0  0  0  0  0  0  0  0  0  0  0  0\\n    3.9157   -0.7186    0.0000 C   0  0  0  0  0  0  0  0  0  0  0  0\\n    4.3335   -1.4259    0.0000 C   0  0  0  0  0  0  0  0  0  0  0  0\\n    5.1635   -1.4259    0.0000 C   0  0  0  0  0  0  0  0  0  0  0  0\\n    5.5701   -2.1445    0.0000 O   0  0  0  0  0  0  0  0  0  0  0  0\\n    0.7186   -1.1252    0.0000 C   0  0  0  0  0  0  0  0  0  0  0  0\\n    0.0000   -0.7186    0.0000 O   0  0  0  0  0  0  0  0  0  0  0  0\\n  1  2  1  0\\n  1  3  1  0\\n  1  4  1  0\\n  1 13  1  0\\n  4  5  1  6\\n  4  6  1  0\\n  6  7  2  0\\n  6  8  1  0\\n  8  9  1  0\\n  9 10  1  0\\n 10 11  1  0\\n 11 12  1  0\\n 13 14  1  0\\nM  END\\n\",\"ROMol\");\n\tviewer_1717380182783288.setStyle({\"stick\": {}});\n\tviewer_1717380182783288.rotate(45,\"y\");\n\tviewer_1717380182783288.zoomTo();\nviewer_1717380182783288.render();\n});\n</script>",
      "text/html": [
       "<div id=\"3dmolviewer_1717380182783288\"  style=\"position: relative; width: 300px; height: 300px;\">\n",
       "        <p id=\"3dmolwarning_1717380182783288\" style=\"background-color:#ffcccc;color:black\">3Dmol.js failed to load for some reason.  Please check your browser console for error messages.<br></p>\n",
       "        </div>\n",
       "<script>\n",
       "\n",
       "var loadScriptAsync = function(uri){\n",
       "  return new Promise((resolve, reject) => {\n",
       "    //this is to ignore the existence of requirejs amd\n",
       "    var savedexports, savedmodule;\n",
       "    if (typeof exports !== 'undefined') savedexports = exports;\n",
       "    else exports = {}\n",
       "    if (typeof module !== 'undefined') savedmodule = module;\n",
       "    else module = {}\n",
       "\n",
       "    var tag = document.createElement('script');\n",
       "    tag.src = uri;\n",
       "    tag.async = true;\n",
       "    tag.onload = () => {\n",
       "        exports = savedexports;\n",
       "        module = savedmodule;\n",
       "        resolve();\n",
       "    };\n",
       "  var firstScriptTag = document.getElementsByTagName('script')[0];\n",
       "  firstScriptTag.parentNode.insertBefore(tag, firstScriptTag);\n",
       "});\n",
       "};\n",
       "\n",
       "if(typeof $3Dmolpromise === 'undefined') {\n",
       "$3Dmolpromise = null;\n",
       "  $3Dmolpromise = loadScriptAsync('https://cdnjs.cloudflare.com/ajax/libs/3Dmol/2.1.0/3Dmol-min.js');\n",
       "}\n",
       "\n",
       "var viewer_1717380182783288 = null;\n",
       "var warn = document.getElementById(\"3dmolwarning_1717380182783288\");\n",
       "if(warn) {\n",
       "    warn.parentNode.removeChild(warn);\n",
       "}\n",
       "$3Dmolpromise.then(function() {\n",
       "viewer_1717380182783288 = $3Dmol.createViewer(document.getElementById(\"3dmolviewer_1717380182783288\"),{backgroundColor:\"white\"});\n",
       "viewer_1717380182783288.zoomTo();\n",
       "\tviewer_1717380182783288.addModel(\"NCGC00186658-01\\n     RDKit          2D\\n\\n 14 13  0  0  1  0  0  0  0  0999 V2000\\n    1.4259   -0.7186    0.0000 C   0  0  0  0  0  0  0  0  0  0  0  0\\n    2.1445   -0.2952    0.0000 C   0  0  0  0  0  0  0  0  0  0  0  0\\n    1.0193    0.0000    0.0000 C   0  0  0  0  0  0  0  0  0  0  0  0\\n    1.8492   -1.4259    0.0000 C   0  0  0  0  0  0  0  0  0  0  0  0\\n    1.4259   -2.1445    0.0000 O   0  0  0  0  0  0  0  0  0  0  0  0\\n    2.6736   -1.4259    0.0000 C   0  0  0  0  0  0  0  0  0  0  0  0\\n    3.0858   -2.1445    0.0000 O   0  0  0  0  0  0  0  0  0  0  0  0\\n    3.0858   -0.7186    0.0000 N   0  0  0  0  0  0  0  0  0  0  0  0\\n    3.9157   -0.7186    0.0000 C   0  0  0  0  0  0  0  0  0  0  0  0\\n    4.3335   -1.4259    0.0000 C   0  0  0  0  0  0  0  0  0  0  0  0\\n    5.1635   -1.4259    0.0000 C   0  0  0  0  0  0  0  0  0  0  0  0\\n    5.5701   -2.1445    0.0000 O   0  0  0  0  0  0  0  0  0  0  0  0\\n    0.7186   -1.1252    0.0000 C   0  0  0  0  0  0  0  0  0  0  0  0\\n    0.0000   -0.7186    0.0000 O   0  0  0  0  0  0  0  0  0  0  0  0\\n  1  2  1  0\\n  1  3  1  0\\n  1  4  1  0\\n  1 13  1  0\\n  4  5  1  6\\n  4  6  1  0\\n  6  7  2  0\\n  6  8  1  0\\n  8  9  1  0\\n  9 10  1  0\\n 10 11  1  0\\n 11 12  1  0\\n 13 14  1  0\\nM  END\\n\",\"ROMol\");\n",
       "\tviewer_1717380182783288.setStyle({\"stick\": {}});\n",
       "\tviewer_1717380182783288.rotate(45,\"y\");\n",
       "\tviewer_1717380182783288.zoomTo();\n",
       "viewer_1717380182783288.render();\n",
       "});\n",
       "</script>"
      ]
     },
     "metadata": {},
     "output_type": "display_data"
    },
    {
     "name": "stdout",
     "output_type": "stream",
     "text": [
      "SMILES notation: CN(C(=O)CN(CCO)CC(=O)N(C)C(C)(C)Cc1ccccc1)C(C)(C)Cc1ccccc1\n",
      "Target NR-AR = 0, Predictions NR-AR = 0\n",
      "==================================================\n",
      "SMILES notation: CC(C)(CO)[C@@H](O)C(=O)NCCCO\n",
      "Rotate me!\n"
     ]
    },
    {
     "data": {
      "application/3dmoljs_load.v0": "<div id=\"3dmolviewer_17173801828114343\"  style=\"position: relative; width: 300px; height: 300px;\">\n        <p id=\"3dmolwarning_17173801828114343\" style=\"background-color:#ffcccc;color:black\">3Dmol.js failed to load for some reason.  Please check your browser console for error messages.<br></p>\n        </div>\n<script>\n\nvar loadScriptAsync = function(uri){\n  return new Promise((resolve, reject) => {\n    //this is to ignore the existence of requirejs amd\n    var savedexports, savedmodule;\n    if (typeof exports !== 'undefined') savedexports = exports;\n    else exports = {}\n    if (typeof module !== 'undefined') savedmodule = module;\n    else module = {}\n\n    var tag = document.createElement('script');\n    tag.src = uri;\n    tag.async = true;\n    tag.onload = () => {\n        exports = savedexports;\n        module = savedmodule;\n        resolve();\n    };\n  var firstScriptTag = document.getElementsByTagName('script')[0];\n  firstScriptTag.parentNode.insertBefore(tag, firstScriptTag);\n});\n};\n\nif(typeof $3Dmolpromise === 'undefined') {\n$3Dmolpromise = null;\n  $3Dmolpromise = loadScriptAsync('https://cdnjs.cloudflare.com/ajax/libs/3Dmol/2.1.0/3Dmol-min.js');\n}\n\nvar viewer_17173801828114343 = null;\nvar warn = document.getElementById(\"3dmolwarning_17173801828114343\");\nif(warn) {\n    warn.parentNode.removeChild(warn);\n}\n$3Dmolpromise.then(function() {\nviewer_17173801828114343 = $3Dmol.createViewer(document.getElementById(\"3dmolviewer_17173801828114343\"),{backgroundColor:\"white\"});\nviewer_17173801828114343.zoomTo();\n\tviewer_17173801828114343.addModel(\"NCGC00186658-01\\n     RDKit          2D\\n\\n 14 13  0  0  1  0  0  0  0  0999 V2000\\n    1.4259   -0.7186    0.0000 C   0  0  0  0  0  0  0  0  0  0  0  0\\n    2.1445   -0.2952    0.0000 C   0  0  0  0  0  0  0  0  0  0  0  0\\n    1.0193    0.0000    0.0000 C   0  0  0  0  0  0  0  0  0  0  0  0\\n    1.8492   -1.4259    0.0000 C   0  0  0  0  0  0  0  0  0  0  0  0\\n    1.4259   -2.1445    0.0000 O   0  0  0  0  0  0  0  0  0  0  0  0\\n    2.6736   -1.4259    0.0000 C   0  0  0  0  0  0  0  0  0  0  0  0\\n    3.0858   -2.1445    0.0000 O   0  0  0  0  0  0  0  0  0  0  0  0\\n    3.0858   -0.7186    0.0000 N   0  0  0  0  0  0  0  0  0  0  0  0\\n    3.9157   -0.7186    0.0000 C   0  0  0  0  0  0  0  0  0  0  0  0\\n    4.3335   -1.4259    0.0000 C   0  0  0  0  0  0  0  0  0  0  0  0\\n    5.1635   -1.4259    0.0000 C   0  0  0  0  0  0  0  0  0  0  0  0\\n    5.5701   -2.1445    0.0000 O   0  0  0  0  0  0  0  0  0  0  0  0\\n    0.7186   -1.1252    0.0000 C   0  0  0  0  0  0  0  0  0  0  0  0\\n    0.0000   -0.7186    0.0000 O   0  0  0  0  0  0  0  0  0  0  0  0\\n  1  2  1  0\\n  1  3  1  0\\n  1  4  1  0\\n  1 13  1  0\\n  4  5  1  6\\n  4  6  1  0\\n  6  7  2  0\\n  6  8  1  0\\n  8  9  1  0\\n  9 10  1  0\\n 10 11  1  0\\n 11 12  1  0\\n 13 14  1  0\\nM  END\\n\",\"ROMol\");\n\tviewer_17173801828114343.setStyle({\"stick\": {}});\n\tviewer_17173801828114343.rotate(45,\"y\");\n\tviewer_17173801828114343.zoomTo();\nviewer_17173801828114343.render();\n});\n</script>",
      "text/html": [
       "<div id=\"3dmolviewer_17173801828114343\"  style=\"position: relative; width: 300px; height: 300px;\">\n",
       "        <p id=\"3dmolwarning_17173801828114343\" style=\"background-color:#ffcccc;color:black\">3Dmol.js failed to load for some reason.  Please check your browser console for error messages.<br></p>\n",
       "        </div>\n",
       "<script>\n",
       "\n",
       "var loadScriptAsync = function(uri){\n",
       "  return new Promise((resolve, reject) => {\n",
       "    //this is to ignore the existence of requirejs amd\n",
       "    var savedexports, savedmodule;\n",
       "    if (typeof exports !== 'undefined') savedexports = exports;\n",
       "    else exports = {}\n",
       "    if (typeof module !== 'undefined') savedmodule = module;\n",
       "    else module = {}\n",
       "\n",
       "    var tag = document.createElement('script');\n",
       "    tag.src = uri;\n",
       "    tag.async = true;\n",
       "    tag.onload = () => {\n",
       "        exports = savedexports;\n",
       "        module = savedmodule;\n",
       "        resolve();\n",
       "    };\n",
       "  var firstScriptTag = document.getElementsByTagName('script')[0];\n",
       "  firstScriptTag.parentNode.insertBefore(tag, firstScriptTag);\n",
       "});\n",
       "};\n",
       "\n",
       "if(typeof $3Dmolpromise === 'undefined') {\n",
       "$3Dmolpromise = null;\n",
       "  $3Dmolpromise = loadScriptAsync('https://cdnjs.cloudflare.com/ajax/libs/3Dmol/2.1.0/3Dmol-min.js');\n",
       "}\n",
       "\n",
       "var viewer_17173801828114343 = null;\n",
       "var warn = document.getElementById(\"3dmolwarning_17173801828114343\");\n",
       "if(warn) {\n",
       "    warn.parentNode.removeChild(warn);\n",
       "}\n",
       "$3Dmolpromise.then(function() {\n",
       "viewer_17173801828114343 = $3Dmol.createViewer(document.getElementById(\"3dmolviewer_17173801828114343\"),{backgroundColor:\"white\"});\n",
       "viewer_17173801828114343.zoomTo();\n",
       "\tviewer_17173801828114343.addModel(\"NCGC00186658-01\\n     RDKit          2D\\n\\n 14 13  0  0  1  0  0  0  0  0999 V2000\\n    1.4259   -0.7186    0.0000 C   0  0  0  0  0  0  0  0  0  0  0  0\\n    2.1445   -0.2952    0.0000 C   0  0  0  0  0  0  0  0  0  0  0  0\\n    1.0193    0.0000    0.0000 C   0  0  0  0  0  0  0  0  0  0  0  0\\n    1.8492   -1.4259    0.0000 C   0  0  0  0  0  0  0  0  0  0  0  0\\n    1.4259   -2.1445    0.0000 O   0  0  0  0  0  0  0  0  0  0  0  0\\n    2.6736   -1.4259    0.0000 C   0  0  0  0  0  0  0  0  0  0  0  0\\n    3.0858   -2.1445    0.0000 O   0  0  0  0  0  0  0  0  0  0  0  0\\n    3.0858   -0.7186    0.0000 N   0  0  0  0  0  0  0  0  0  0  0  0\\n    3.9157   -0.7186    0.0000 C   0  0  0  0  0  0  0  0  0  0  0  0\\n    4.3335   -1.4259    0.0000 C   0  0  0  0  0  0  0  0  0  0  0  0\\n    5.1635   -1.4259    0.0000 C   0  0  0  0  0  0  0  0  0  0  0  0\\n    5.5701   -2.1445    0.0000 O   0  0  0  0  0  0  0  0  0  0  0  0\\n    0.7186   -1.1252    0.0000 C   0  0  0  0  0  0  0  0  0  0  0  0\\n    0.0000   -0.7186    0.0000 O   0  0  0  0  0  0  0  0  0  0  0  0\\n  1  2  1  0\\n  1  3  1  0\\n  1  4  1  0\\n  1 13  1  0\\n  4  5  1  6\\n  4  6  1  0\\n  6  7  2  0\\n  6  8  1  0\\n  8  9  1  0\\n  9 10  1  0\\n 10 11  1  0\\n 11 12  1  0\\n 13 14  1  0\\nM  END\\n\",\"ROMol\");\n",
       "\tviewer_17173801828114343.setStyle({\"stick\": {}});\n",
       "\tviewer_17173801828114343.rotate(45,\"y\");\n",
       "\tviewer_17173801828114343.zoomTo();\n",
       "viewer_17173801828114343.render();\n",
       "});\n",
       "</script>"
      ]
     },
     "metadata": {},
     "output_type": "display_data"
    },
    {
     "name": "stdout",
     "output_type": "stream",
     "text": [
      "SMILES notation: CN(C(=O)CN(CCO)CC(=O)N(C)C(C)(C)Cc1ccccc1)C(C)(C)Cc1ccccc1\n",
      "Target SR-ARE = 0, Predictions SR-ARE = 0\n",
      "==================================================\n",
      "SMILES notation: CC(C)(CO)[C@@H](O)C(=O)NCCCO\n",
      "Rotate me!\n"
     ]
    },
    {
     "data": {
      "application/3dmoljs_load.v0": "<div id=\"3dmolviewer_17173801828426485\"  style=\"position: relative; width: 300px; height: 300px;\">\n        <p id=\"3dmolwarning_17173801828426485\" style=\"background-color:#ffcccc;color:black\">3Dmol.js failed to load for some reason.  Please check your browser console for error messages.<br></p>\n        </div>\n<script>\n\nvar loadScriptAsync = function(uri){\n  return new Promise((resolve, reject) => {\n    //this is to ignore the existence of requirejs amd\n    var savedexports, savedmodule;\n    if (typeof exports !== 'undefined') savedexports = exports;\n    else exports = {}\n    if (typeof module !== 'undefined') savedmodule = module;\n    else module = {}\n\n    var tag = document.createElement('script');\n    tag.src = uri;\n    tag.async = true;\n    tag.onload = () => {\n        exports = savedexports;\n        module = savedmodule;\n        resolve();\n    };\n  var firstScriptTag = document.getElementsByTagName('script')[0];\n  firstScriptTag.parentNode.insertBefore(tag, firstScriptTag);\n});\n};\n\nif(typeof $3Dmolpromise === 'undefined') {\n$3Dmolpromise = null;\n  $3Dmolpromise = loadScriptAsync('https://cdnjs.cloudflare.com/ajax/libs/3Dmol/2.1.0/3Dmol-min.js');\n}\n\nvar viewer_17173801828426485 = null;\nvar warn = document.getElementById(\"3dmolwarning_17173801828426485\");\nif(warn) {\n    warn.parentNode.removeChild(warn);\n}\n$3Dmolpromise.then(function() {\nviewer_17173801828426485 = $3Dmol.createViewer(document.getElementById(\"3dmolviewer_17173801828426485\"),{backgroundColor:\"white\"});\nviewer_17173801828426485.zoomTo();\n\tviewer_17173801828426485.addModel(\"NCGC00186658-01\\n     RDKit          2D\\n\\n 14 13  0  0  1  0  0  0  0  0999 V2000\\n    1.4259   -0.7186    0.0000 C   0  0  0  0  0  0  0  0  0  0  0  0\\n    2.1445   -0.2952    0.0000 C   0  0  0  0  0  0  0  0  0  0  0  0\\n    1.0193    0.0000    0.0000 C   0  0  0  0  0  0  0  0  0  0  0  0\\n    1.8492   -1.4259    0.0000 C   0  0  0  0  0  0  0  0  0  0  0  0\\n    1.4259   -2.1445    0.0000 O   0  0  0  0  0  0  0  0  0  0  0  0\\n    2.6736   -1.4259    0.0000 C   0  0  0  0  0  0  0  0  0  0  0  0\\n    3.0858   -2.1445    0.0000 O   0  0  0  0  0  0  0  0  0  0  0  0\\n    3.0858   -0.7186    0.0000 N   0  0  0  0  0  0  0  0  0  0  0  0\\n    3.9157   -0.7186    0.0000 C   0  0  0  0  0  0  0  0  0  0  0  0\\n    4.3335   -1.4259    0.0000 C   0  0  0  0  0  0  0  0  0  0  0  0\\n    5.1635   -1.4259    0.0000 C   0  0  0  0  0  0  0  0  0  0  0  0\\n    5.5701   -2.1445    0.0000 O   0  0  0  0  0  0  0  0  0  0  0  0\\n    0.7186   -1.1252    0.0000 C   0  0  0  0  0  0  0  0  0  0  0  0\\n    0.0000   -0.7186    0.0000 O   0  0  0  0  0  0  0  0  0  0  0  0\\n  1  2  1  0\\n  1  3  1  0\\n  1  4  1  0\\n  1 13  1  0\\n  4  5  1  6\\n  4  6  1  0\\n  6  7  2  0\\n  6  8  1  0\\n  8  9  1  0\\n  9 10  1  0\\n 10 11  1  0\\n 11 12  1  0\\n 13 14  1  0\\nM  END\\n\",\"ROMol\");\n\tviewer_17173801828426485.setStyle({\"stick\": {}});\n\tviewer_17173801828426485.rotate(45,\"y\");\n\tviewer_17173801828426485.zoomTo();\nviewer_17173801828426485.render();\n});\n</script>",
      "text/html": [
       "<div id=\"3dmolviewer_17173801828426485\"  style=\"position: relative; width: 300px; height: 300px;\">\n",
       "        <p id=\"3dmolwarning_17173801828426485\" style=\"background-color:#ffcccc;color:black\">3Dmol.js failed to load for some reason.  Please check your browser console for error messages.<br></p>\n",
       "        </div>\n",
       "<script>\n",
       "\n",
       "var loadScriptAsync = function(uri){\n",
       "  return new Promise((resolve, reject) => {\n",
       "    //this is to ignore the existence of requirejs amd\n",
       "    var savedexports, savedmodule;\n",
       "    if (typeof exports !== 'undefined') savedexports = exports;\n",
       "    else exports = {}\n",
       "    if (typeof module !== 'undefined') savedmodule = module;\n",
       "    else module = {}\n",
       "\n",
       "    var tag = document.createElement('script');\n",
       "    tag.src = uri;\n",
       "    tag.async = true;\n",
       "    tag.onload = () => {\n",
       "        exports = savedexports;\n",
       "        module = savedmodule;\n",
       "        resolve();\n",
       "    };\n",
       "  var firstScriptTag = document.getElementsByTagName('script')[0];\n",
       "  firstScriptTag.parentNode.insertBefore(tag, firstScriptTag);\n",
       "});\n",
       "};\n",
       "\n",
       "if(typeof $3Dmolpromise === 'undefined') {\n",
       "$3Dmolpromise = null;\n",
       "  $3Dmolpromise = loadScriptAsync('https://cdnjs.cloudflare.com/ajax/libs/3Dmol/2.1.0/3Dmol-min.js');\n",
       "}\n",
       "\n",
       "var viewer_17173801828426485 = null;\n",
       "var warn = document.getElementById(\"3dmolwarning_17173801828426485\");\n",
       "if(warn) {\n",
       "    warn.parentNode.removeChild(warn);\n",
       "}\n",
       "$3Dmolpromise.then(function() {\n",
       "viewer_17173801828426485 = $3Dmol.createViewer(document.getElementById(\"3dmolviewer_17173801828426485\"),{backgroundColor:\"white\"});\n",
       "viewer_17173801828426485.zoomTo();\n",
       "\tviewer_17173801828426485.addModel(\"NCGC00186658-01\\n     RDKit          2D\\n\\n 14 13  0  0  1  0  0  0  0  0999 V2000\\n    1.4259   -0.7186    0.0000 C   0  0  0  0  0  0  0  0  0  0  0  0\\n    2.1445   -0.2952    0.0000 C   0  0  0  0  0  0  0  0  0  0  0  0\\n    1.0193    0.0000    0.0000 C   0  0  0  0  0  0  0  0  0  0  0  0\\n    1.8492   -1.4259    0.0000 C   0  0  0  0  0  0  0  0  0  0  0  0\\n    1.4259   -2.1445    0.0000 O   0  0  0  0  0  0  0  0  0  0  0  0\\n    2.6736   -1.4259    0.0000 C   0  0  0  0  0  0  0  0  0  0  0  0\\n    3.0858   -2.1445    0.0000 O   0  0  0  0  0  0  0  0  0  0  0  0\\n    3.0858   -0.7186    0.0000 N   0  0  0  0  0  0  0  0  0  0  0  0\\n    3.9157   -0.7186    0.0000 C   0  0  0  0  0  0  0  0  0  0  0  0\\n    4.3335   -1.4259    0.0000 C   0  0  0  0  0  0  0  0  0  0  0  0\\n    5.1635   -1.4259    0.0000 C   0  0  0  0  0  0  0  0  0  0  0  0\\n    5.5701   -2.1445    0.0000 O   0  0  0  0  0  0  0  0  0  0  0  0\\n    0.7186   -1.1252    0.0000 C   0  0  0  0  0  0  0  0  0  0  0  0\\n    0.0000   -0.7186    0.0000 O   0  0  0  0  0  0  0  0  0  0  0  0\\n  1  2  1  0\\n  1  3  1  0\\n  1  4  1  0\\n  1 13  1  0\\n  4  5  1  6\\n  4  6  1  0\\n  6  7  2  0\\n  6  8  1  0\\n  8  9  1  0\\n  9 10  1  0\\n 10 11  1  0\\n 11 12  1  0\\n 13 14  1  0\\nM  END\\n\",\"ROMol\");\n",
       "\tviewer_17173801828426485.setStyle({\"stick\": {}});\n",
       "\tviewer_17173801828426485.rotate(45,\"y\");\n",
       "\tviewer_17173801828426485.zoomTo();\n",
       "viewer_17173801828426485.render();\n",
       "});\n",
       "</script>"
      ]
     },
     "metadata": {},
     "output_type": "display_data"
    },
    {
     "name": "stdout",
     "output_type": "stream",
     "text": [
      "SMILES notation: CN(C(=O)CN(CCO)CC(=O)N(C)C(C)(C)Cc1ccccc1)C(C)(C)Cc1ccccc1\n",
      "Target NR-Aromatase = 0, Predictions NR-Aromatase = 0\n",
      "==================================================\n",
      "SMILES notation: CC(C)(CO)[C@@H](O)C(=O)NCCCO\n",
      "Rotate me!\n"
     ]
    },
    {
     "data": {
      "application/3dmoljs_load.v0": "<div id=\"3dmolviewer_1717380182869083\"  style=\"position: relative; width: 300px; height: 300px;\">\n        <p id=\"3dmolwarning_1717380182869083\" style=\"background-color:#ffcccc;color:black\">3Dmol.js failed to load for some reason.  Please check your browser console for error messages.<br></p>\n        </div>\n<script>\n\nvar loadScriptAsync = function(uri){\n  return new Promise((resolve, reject) => {\n    //this is to ignore the existence of requirejs amd\n    var savedexports, savedmodule;\n    if (typeof exports !== 'undefined') savedexports = exports;\n    else exports = {}\n    if (typeof module !== 'undefined') savedmodule = module;\n    else module = {}\n\n    var tag = document.createElement('script');\n    tag.src = uri;\n    tag.async = true;\n    tag.onload = () => {\n        exports = savedexports;\n        module = savedmodule;\n        resolve();\n    };\n  var firstScriptTag = document.getElementsByTagName('script')[0];\n  firstScriptTag.parentNode.insertBefore(tag, firstScriptTag);\n});\n};\n\nif(typeof $3Dmolpromise === 'undefined') {\n$3Dmolpromise = null;\n  $3Dmolpromise = loadScriptAsync('https://cdnjs.cloudflare.com/ajax/libs/3Dmol/2.1.0/3Dmol-min.js');\n}\n\nvar viewer_1717380182869083 = null;\nvar warn = document.getElementById(\"3dmolwarning_1717380182869083\");\nif(warn) {\n    warn.parentNode.removeChild(warn);\n}\n$3Dmolpromise.then(function() {\nviewer_1717380182869083 = $3Dmol.createViewer(document.getElementById(\"3dmolviewer_1717380182869083\"),{backgroundColor:\"white\"});\nviewer_1717380182869083.zoomTo();\n\tviewer_1717380182869083.addModel(\"NCGC00186658-01\\n     RDKit          2D\\n\\n 14 13  0  0  1  0  0  0  0  0999 V2000\\n    1.4259   -0.7186    0.0000 C   0  0  0  0  0  0  0  0  0  0  0  0\\n    2.1445   -0.2952    0.0000 C   0  0  0  0  0  0  0  0  0  0  0  0\\n    1.0193    0.0000    0.0000 C   0  0  0  0  0  0  0  0  0  0  0  0\\n    1.8492   -1.4259    0.0000 C   0  0  0  0  0  0  0  0  0  0  0  0\\n    1.4259   -2.1445    0.0000 O   0  0  0  0  0  0  0  0  0  0  0  0\\n    2.6736   -1.4259    0.0000 C   0  0  0  0  0  0  0  0  0  0  0  0\\n    3.0858   -2.1445    0.0000 O   0  0  0  0  0  0  0  0  0  0  0  0\\n    3.0858   -0.7186    0.0000 N   0  0  0  0  0  0  0  0  0  0  0  0\\n    3.9157   -0.7186    0.0000 C   0  0  0  0  0  0  0  0  0  0  0  0\\n    4.3335   -1.4259    0.0000 C   0  0  0  0  0  0  0  0  0  0  0  0\\n    5.1635   -1.4259    0.0000 C   0  0  0  0  0  0  0  0  0  0  0  0\\n    5.5701   -2.1445    0.0000 O   0  0  0  0  0  0  0  0  0  0  0  0\\n    0.7186   -1.1252    0.0000 C   0  0  0  0  0  0  0  0  0  0  0  0\\n    0.0000   -0.7186    0.0000 O   0  0  0  0  0  0  0  0  0  0  0  0\\n  1  2  1  0\\n  1  3  1  0\\n  1  4  1  0\\n  1 13  1  0\\n  4  5  1  6\\n  4  6  1  0\\n  6  7  2  0\\n  6  8  1  0\\n  8  9  1  0\\n  9 10  1  0\\n 10 11  1  0\\n 11 12  1  0\\n 13 14  1  0\\nM  END\\n\",\"ROMol\");\n\tviewer_1717380182869083.setStyle({\"stick\": {}});\n\tviewer_1717380182869083.rotate(45,\"y\");\n\tviewer_1717380182869083.zoomTo();\nviewer_1717380182869083.render();\n});\n</script>",
      "text/html": [
       "<div id=\"3dmolviewer_1717380182869083\"  style=\"position: relative; width: 300px; height: 300px;\">\n",
       "        <p id=\"3dmolwarning_1717380182869083\" style=\"background-color:#ffcccc;color:black\">3Dmol.js failed to load for some reason.  Please check your browser console for error messages.<br></p>\n",
       "        </div>\n",
       "<script>\n",
       "\n",
       "var loadScriptAsync = function(uri){\n",
       "  return new Promise((resolve, reject) => {\n",
       "    //this is to ignore the existence of requirejs amd\n",
       "    var savedexports, savedmodule;\n",
       "    if (typeof exports !== 'undefined') savedexports = exports;\n",
       "    else exports = {}\n",
       "    if (typeof module !== 'undefined') savedmodule = module;\n",
       "    else module = {}\n",
       "\n",
       "    var tag = document.createElement('script');\n",
       "    tag.src = uri;\n",
       "    tag.async = true;\n",
       "    tag.onload = () => {\n",
       "        exports = savedexports;\n",
       "        module = savedmodule;\n",
       "        resolve();\n",
       "    };\n",
       "  var firstScriptTag = document.getElementsByTagName('script')[0];\n",
       "  firstScriptTag.parentNode.insertBefore(tag, firstScriptTag);\n",
       "});\n",
       "};\n",
       "\n",
       "if(typeof $3Dmolpromise === 'undefined') {\n",
       "$3Dmolpromise = null;\n",
       "  $3Dmolpromise = loadScriptAsync('https://cdnjs.cloudflare.com/ajax/libs/3Dmol/2.1.0/3Dmol-min.js');\n",
       "}\n",
       "\n",
       "var viewer_1717380182869083 = null;\n",
       "var warn = document.getElementById(\"3dmolwarning_1717380182869083\");\n",
       "if(warn) {\n",
       "    warn.parentNode.removeChild(warn);\n",
       "}\n",
       "$3Dmolpromise.then(function() {\n",
       "viewer_1717380182869083 = $3Dmol.createViewer(document.getElementById(\"3dmolviewer_1717380182869083\"),{backgroundColor:\"white\"});\n",
       "viewer_1717380182869083.zoomTo();\n",
       "\tviewer_1717380182869083.addModel(\"NCGC00186658-01\\n     RDKit          2D\\n\\n 14 13  0  0  1  0  0  0  0  0999 V2000\\n    1.4259   -0.7186    0.0000 C   0  0  0  0  0  0  0  0  0  0  0  0\\n    2.1445   -0.2952    0.0000 C   0  0  0  0  0  0  0  0  0  0  0  0\\n    1.0193    0.0000    0.0000 C   0  0  0  0  0  0  0  0  0  0  0  0\\n    1.8492   -1.4259    0.0000 C   0  0  0  0  0  0  0  0  0  0  0  0\\n    1.4259   -2.1445    0.0000 O   0  0  0  0  0  0  0  0  0  0  0  0\\n    2.6736   -1.4259    0.0000 C   0  0  0  0  0  0  0  0  0  0  0  0\\n    3.0858   -2.1445    0.0000 O   0  0  0  0  0  0  0  0  0  0  0  0\\n    3.0858   -0.7186    0.0000 N   0  0  0  0  0  0  0  0  0  0  0  0\\n    3.9157   -0.7186    0.0000 C   0  0  0  0  0  0  0  0  0  0  0  0\\n    4.3335   -1.4259    0.0000 C   0  0  0  0  0  0  0  0  0  0  0  0\\n    5.1635   -1.4259    0.0000 C   0  0  0  0  0  0  0  0  0  0  0  0\\n    5.5701   -2.1445    0.0000 O   0  0  0  0  0  0  0  0  0  0  0  0\\n    0.7186   -1.1252    0.0000 C   0  0  0  0  0  0  0  0  0  0  0  0\\n    0.0000   -0.7186    0.0000 O   0  0  0  0  0  0  0  0  0  0  0  0\\n  1  2  1  0\\n  1  3  1  0\\n  1  4  1  0\\n  1 13  1  0\\n  4  5  1  6\\n  4  6  1  0\\n  6  7  2  0\\n  6  8  1  0\\n  8  9  1  0\\n  9 10  1  0\\n 10 11  1  0\\n 11 12  1  0\\n 13 14  1  0\\nM  END\\n\",\"ROMol\");\n",
       "\tviewer_1717380182869083.setStyle({\"stick\": {}});\n",
       "\tviewer_1717380182869083.rotate(45,\"y\");\n",
       "\tviewer_1717380182869083.zoomTo();\n",
       "viewer_1717380182869083.render();\n",
       "});\n",
       "</script>"
      ]
     },
     "metadata": {},
     "output_type": "display_data"
    },
    {
     "name": "stdout",
     "output_type": "stream",
     "text": [
      "SMILES notation: CN(C(=O)CN(CCO)CC(=O)N(C)C(C)(C)Cc1ccccc1)C(C)(C)Cc1ccccc1\n",
      "Target NR-ER-LBD = 0, Predictions NR-ER-LBD = 0\n",
      "==================================================\n",
      "SMILES notation: CC(C)(CO)[C@@H](O)C(=O)NCCCO\n",
      "Rotate me!\n"
     ]
    },
    {
     "data": {
      "application/3dmoljs_load.v0": "<div id=\"3dmolviewer_17173801828934753\"  style=\"position: relative; width: 300px; height: 300px;\">\n        <p id=\"3dmolwarning_17173801828934753\" style=\"background-color:#ffcccc;color:black\">3Dmol.js failed to load for some reason.  Please check your browser console for error messages.<br></p>\n        </div>\n<script>\n\nvar loadScriptAsync = function(uri){\n  return new Promise((resolve, reject) => {\n    //this is to ignore the existence of requirejs amd\n    var savedexports, savedmodule;\n    if (typeof exports !== 'undefined') savedexports = exports;\n    else exports = {}\n    if (typeof module !== 'undefined') savedmodule = module;\n    else module = {}\n\n    var tag = document.createElement('script');\n    tag.src = uri;\n    tag.async = true;\n    tag.onload = () => {\n        exports = savedexports;\n        module = savedmodule;\n        resolve();\n    };\n  var firstScriptTag = document.getElementsByTagName('script')[0];\n  firstScriptTag.parentNode.insertBefore(tag, firstScriptTag);\n});\n};\n\nif(typeof $3Dmolpromise === 'undefined') {\n$3Dmolpromise = null;\n  $3Dmolpromise = loadScriptAsync('https://cdnjs.cloudflare.com/ajax/libs/3Dmol/2.1.0/3Dmol-min.js');\n}\n\nvar viewer_17173801828934753 = null;\nvar warn = document.getElementById(\"3dmolwarning_17173801828934753\");\nif(warn) {\n    warn.parentNode.removeChild(warn);\n}\n$3Dmolpromise.then(function() {\nviewer_17173801828934753 = $3Dmol.createViewer(document.getElementById(\"3dmolviewer_17173801828934753\"),{backgroundColor:\"white\"});\nviewer_17173801828934753.zoomTo();\n\tviewer_17173801828934753.addModel(\"NCGC00186658-01\\n     RDKit          2D\\n\\n 14 13  0  0  1  0  0  0  0  0999 V2000\\n    1.4259   -0.7186    0.0000 C   0  0  0  0  0  0  0  0  0  0  0  0\\n    2.1445   -0.2952    0.0000 C   0  0  0  0  0  0  0  0  0  0  0  0\\n    1.0193    0.0000    0.0000 C   0  0  0  0  0  0  0  0  0  0  0  0\\n    1.8492   -1.4259    0.0000 C   0  0  0  0  0  0  0  0  0  0  0  0\\n    1.4259   -2.1445    0.0000 O   0  0  0  0  0  0  0  0  0  0  0  0\\n    2.6736   -1.4259    0.0000 C   0  0  0  0  0  0  0  0  0  0  0  0\\n    3.0858   -2.1445    0.0000 O   0  0  0  0  0  0  0  0  0  0  0  0\\n    3.0858   -0.7186    0.0000 N   0  0  0  0  0  0  0  0  0  0  0  0\\n    3.9157   -0.7186    0.0000 C   0  0  0  0  0  0  0  0  0  0  0  0\\n    4.3335   -1.4259    0.0000 C   0  0  0  0  0  0  0  0  0  0  0  0\\n    5.1635   -1.4259    0.0000 C   0  0  0  0  0  0  0  0  0  0  0  0\\n    5.5701   -2.1445    0.0000 O   0  0  0  0  0  0  0  0  0  0  0  0\\n    0.7186   -1.1252    0.0000 C   0  0  0  0  0  0  0  0  0  0  0  0\\n    0.0000   -0.7186    0.0000 O   0  0  0  0  0  0  0  0  0  0  0  0\\n  1  2  1  0\\n  1  3  1  0\\n  1  4  1  0\\n  1 13  1  0\\n  4  5  1  6\\n  4  6  1  0\\n  6  7  2  0\\n  6  8  1  0\\n  8  9  1  0\\n  9 10  1  0\\n 10 11  1  0\\n 11 12  1  0\\n 13 14  1  0\\nM  END\\n\",\"ROMol\");\n\tviewer_17173801828934753.setStyle({\"stick\": {}});\n\tviewer_17173801828934753.rotate(45,\"y\");\n\tviewer_17173801828934753.zoomTo();\nviewer_17173801828934753.render();\n});\n</script>",
      "text/html": [
       "<div id=\"3dmolviewer_17173801828934753\"  style=\"position: relative; width: 300px; height: 300px;\">\n",
       "        <p id=\"3dmolwarning_17173801828934753\" style=\"background-color:#ffcccc;color:black\">3Dmol.js failed to load for some reason.  Please check your browser console for error messages.<br></p>\n",
       "        </div>\n",
       "<script>\n",
       "\n",
       "var loadScriptAsync = function(uri){\n",
       "  return new Promise((resolve, reject) => {\n",
       "    //this is to ignore the existence of requirejs amd\n",
       "    var savedexports, savedmodule;\n",
       "    if (typeof exports !== 'undefined') savedexports = exports;\n",
       "    else exports = {}\n",
       "    if (typeof module !== 'undefined') savedmodule = module;\n",
       "    else module = {}\n",
       "\n",
       "    var tag = document.createElement('script');\n",
       "    tag.src = uri;\n",
       "    tag.async = true;\n",
       "    tag.onload = () => {\n",
       "        exports = savedexports;\n",
       "        module = savedmodule;\n",
       "        resolve();\n",
       "    };\n",
       "  var firstScriptTag = document.getElementsByTagName('script')[0];\n",
       "  firstScriptTag.parentNode.insertBefore(tag, firstScriptTag);\n",
       "});\n",
       "};\n",
       "\n",
       "if(typeof $3Dmolpromise === 'undefined') {\n",
       "$3Dmolpromise = null;\n",
       "  $3Dmolpromise = loadScriptAsync('https://cdnjs.cloudflare.com/ajax/libs/3Dmol/2.1.0/3Dmol-min.js');\n",
       "}\n",
       "\n",
       "var viewer_17173801828934753 = null;\n",
       "var warn = document.getElementById(\"3dmolwarning_17173801828934753\");\n",
       "if(warn) {\n",
       "    warn.parentNode.removeChild(warn);\n",
       "}\n",
       "$3Dmolpromise.then(function() {\n",
       "viewer_17173801828934753 = $3Dmol.createViewer(document.getElementById(\"3dmolviewer_17173801828934753\"),{backgroundColor:\"white\"});\n",
       "viewer_17173801828934753.zoomTo();\n",
       "\tviewer_17173801828934753.addModel(\"NCGC00186658-01\\n     RDKit          2D\\n\\n 14 13  0  0  1  0  0  0  0  0999 V2000\\n    1.4259   -0.7186    0.0000 C   0  0  0  0  0  0  0  0  0  0  0  0\\n    2.1445   -0.2952    0.0000 C   0  0  0  0  0  0  0  0  0  0  0  0\\n    1.0193    0.0000    0.0000 C   0  0  0  0  0  0  0  0  0  0  0  0\\n    1.8492   -1.4259    0.0000 C   0  0  0  0  0  0  0  0  0  0  0  0\\n    1.4259   -2.1445    0.0000 O   0  0  0  0  0  0  0  0  0  0  0  0\\n    2.6736   -1.4259    0.0000 C   0  0  0  0  0  0  0  0  0  0  0  0\\n    3.0858   -2.1445    0.0000 O   0  0  0  0  0  0  0  0  0  0  0  0\\n    3.0858   -0.7186    0.0000 N   0  0  0  0  0  0  0  0  0  0  0  0\\n    3.9157   -0.7186    0.0000 C   0  0  0  0  0  0  0  0  0  0  0  0\\n    4.3335   -1.4259    0.0000 C   0  0  0  0  0  0  0  0  0  0  0  0\\n    5.1635   -1.4259    0.0000 C   0  0  0  0  0  0  0  0  0  0  0  0\\n    5.5701   -2.1445    0.0000 O   0  0  0  0  0  0  0  0  0  0  0  0\\n    0.7186   -1.1252    0.0000 C   0  0  0  0  0  0  0  0  0  0  0  0\\n    0.0000   -0.7186    0.0000 O   0  0  0  0  0  0  0  0  0  0  0  0\\n  1  2  1  0\\n  1  3  1  0\\n  1  4  1  0\\n  1 13  1  0\\n  4  5  1  6\\n  4  6  1  0\\n  6  7  2  0\\n  6  8  1  0\\n  8  9  1  0\\n  9 10  1  0\\n 10 11  1  0\\n 11 12  1  0\\n 13 14  1  0\\nM  END\\n\",\"ROMol\");\n",
       "\tviewer_17173801828934753.setStyle({\"stick\": {}});\n",
       "\tviewer_17173801828934753.rotate(45,\"y\");\n",
       "\tviewer_17173801828934753.zoomTo();\n",
       "viewer_17173801828934753.render();\n",
       "});\n",
       "</script>"
      ]
     },
     "metadata": {},
     "output_type": "display_data"
    },
    {
     "name": "stdout",
     "output_type": "stream",
     "text": [
      "SMILES notation: CN(C(=O)CN(CCO)CC(=O)N(C)C(C)(C)Cc1ccccc1)C(C)(C)Cc1ccccc1\n",
      "Target NR-AhR = 0, Predictions NR-AhR = 0\n",
      "==================================================\n",
      "SMILES notation: CC(C)(CO)[C@@H](O)C(=O)NCCCO\n",
      "Rotate me!\n"
     ]
    },
    {
     "data": {
      "application/3dmoljs_load.v0": "<div id=\"3dmolviewer_17173801829131012\"  style=\"position: relative; width: 300px; height: 300px;\">\n        <p id=\"3dmolwarning_17173801829131012\" style=\"background-color:#ffcccc;color:black\">3Dmol.js failed to load for some reason.  Please check your browser console for error messages.<br></p>\n        </div>\n<script>\n\nvar loadScriptAsync = function(uri){\n  return new Promise((resolve, reject) => {\n    //this is to ignore the existence of requirejs amd\n    var savedexports, savedmodule;\n    if (typeof exports !== 'undefined') savedexports = exports;\n    else exports = {}\n    if (typeof module !== 'undefined') savedmodule = module;\n    else module = {}\n\n    var tag = document.createElement('script');\n    tag.src = uri;\n    tag.async = true;\n    tag.onload = () => {\n        exports = savedexports;\n        module = savedmodule;\n        resolve();\n    };\n  var firstScriptTag = document.getElementsByTagName('script')[0];\n  firstScriptTag.parentNode.insertBefore(tag, firstScriptTag);\n});\n};\n\nif(typeof $3Dmolpromise === 'undefined') {\n$3Dmolpromise = null;\n  $3Dmolpromise = loadScriptAsync('https://cdnjs.cloudflare.com/ajax/libs/3Dmol/2.1.0/3Dmol-min.js');\n}\n\nvar viewer_17173801829131012 = null;\nvar warn = document.getElementById(\"3dmolwarning_17173801829131012\");\nif(warn) {\n    warn.parentNode.removeChild(warn);\n}\n$3Dmolpromise.then(function() {\nviewer_17173801829131012 = $3Dmol.createViewer(document.getElementById(\"3dmolviewer_17173801829131012\"),{backgroundColor:\"white\"});\nviewer_17173801829131012.zoomTo();\n\tviewer_17173801829131012.addModel(\"NCGC00186658-01\\n     RDKit          2D\\n\\n 14 13  0  0  1  0  0  0  0  0999 V2000\\n    1.4259   -0.7186    0.0000 C   0  0  0  0  0  0  0  0  0  0  0  0\\n    2.1445   -0.2952    0.0000 C   0  0  0  0  0  0  0  0  0  0  0  0\\n    1.0193    0.0000    0.0000 C   0  0  0  0  0  0  0  0  0  0  0  0\\n    1.8492   -1.4259    0.0000 C   0  0  0  0  0  0  0  0  0  0  0  0\\n    1.4259   -2.1445    0.0000 O   0  0  0  0  0  0  0  0  0  0  0  0\\n    2.6736   -1.4259    0.0000 C   0  0  0  0  0  0  0  0  0  0  0  0\\n    3.0858   -2.1445    0.0000 O   0  0  0  0  0  0  0  0  0  0  0  0\\n    3.0858   -0.7186    0.0000 N   0  0  0  0  0  0  0  0  0  0  0  0\\n    3.9157   -0.7186    0.0000 C   0  0  0  0  0  0  0  0  0  0  0  0\\n    4.3335   -1.4259    0.0000 C   0  0  0  0  0  0  0  0  0  0  0  0\\n    5.1635   -1.4259    0.0000 C   0  0  0  0  0  0  0  0  0  0  0  0\\n    5.5701   -2.1445    0.0000 O   0  0  0  0  0  0  0  0  0  0  0  0\\n    0.7186   -1.1252    0.0000 C   0  0  0  0  0  0  0  0  0  0  0  0\\n    0.0000   -0.7186    0.0000 O   0  0  0  0  0  0  0  0  0  0  0  0\\n  1  2  1  0\\n  1  3  1  0\\n  1  4  1  0\\n  1 13  1  0\\n  4  5  1  6\\n  4  6  1  0\\n  6  7  2  0\\n  6  8  1  0\\n  8  9  1  0\\n  9 10  1  0\\n 10 11  1  0\\n 11 12  1  0\\n 13 14  1  0\\nM  END\\n\",\"ROMol\");\n\tviewer_17173801829131012.setStyle({\"stick\": {}});\n\tviewer_17173801829131012.rotate(45,\"y\");\n\tviewer_17173801829131012.zoomTo();\nviewer_17173801829131012.render();\n});\n</script>",
      "text/html": [
       "<div id=\"3dmolviewer_17173801829131012\"  style=\"position: relative; width: 300px; height: 300px;\">\n",
       "        <p id=\"3dmolwarning_17173801829131012\" style=\"background-color:#ffcccc;color:black\">3Dmol.js failed to load for some reason.  Please check your browser console for error messages.<br></p>\n",
       "        </div>\n",
       "<script>\n",
       "\n",
       "var loadScriptAsync = function(uri){\n",
       "  return new Promise((resolve, reject) => {\n",
       "    //this is to ignore the existence of requirejs amd\n",
       "    var savedexports, savedmodule;\n",
       "    if (typeof exports !== 'undefined') savedexports = exports;\n",
       "    else exports = {}\n",
       "    if (typeof module !== 'undefined') savedmodule = module;\n",
       "    else module = {}\n",
       "\n",
       "    var tag = document.createElement('script');\n",
       "    tag.src = uri;\n",
       "    tag.async = true;\n",
       "    tag.onload = () => {\n",
       "        exports = savedexports;\n",
       "        module = savedmodule;\n",
       "        resolve();\n",
       "    };\n",
       "  var firstScriptTag = document.getElementsByTagName('script')[0];\n",
       "  firstScriptTag.parentNode.insertBefore(tag, firstScriptTag);\n",
       "});\n",
       "};\n",
       "\n",
       "if(typeof $3Dmolpromise === 'undefined') {\n",
       "$3Dmolpromise = null;\n",
       "  $3Dmolpromise = loadScriptAsync('https://cdnjs.cloudflare.com/ajax/libs/3Dmol/2.1.0/3Dmol-min.js');\n",
       "}\n",
       "\n",
       "var viewer_17173801829131012 = null;\n",
       "var warn = document.getElementById(\"3dmolwarning_17173801829131012\");\n",
       "if(warn) {\n",
       "    warn.parentNode.removeChild(warn);\n",
       "}\n",
       "$3Dmolpromise.then(function() {\n",
       "viewer_17173801829131012 = $3Dmol.createViewer(document.getElementById(\"3dmolviewer_17173801829131012\"),{backgroundColor:\"white\"});\n",
       "viewer_17173801829131012.zoomTo();\n",
       "\tviewer_17173801829131012.addModel(\"NCGC00186658-01\\n     RDKit          2D\\n\\n 14 13  0  0  1  0  0  0  0  0999 V2000\\n    1.4259   -0.7186    0.0000 C   0  0  0  0  0  0  0  0  0  0  0  0\\n    2.1445   -0.2952    0.0000 C   0  0  0  0  0  0  0  0  0  0  0  0\\n    1.0193    0.0000    0.0000 C   0  0  0  0  0  0  0  0  0  0  0  0\\n    1.8492   -1.4259    0.0000 C   0  0  0  0  0  0  0  0  0  0  0  0\\n    1.4259   -2.1445    0.0000 O   0  0  0  0  0  0  0  0  0  0  0  0\\n    2.6736   -1.4259    0.0000 C   0  0  0  0  0  0  0  0  0  0  0  0\\n    3.0858   -2.1445    0.0000 O   0  0  0  0  0  0  0  0  0  0  0  0\\n    3.0858   -0.7186    0.0000 N   0  0  0  0  0  0  0  0  0  0  0  0\\n    3.9157   -0.7186    0.0000 C   0  0  0  0  0  0  0  0  0  0  0  0\\n    4.3335   -1.4259    0.0000 C   0  0  0  0  0  0  0  0  0  0  0  0\\n    5.1635   -1.4259    0.0000 C   0  0  0  0  0  0  0  0  0  0  0  0\\n    5.5701   -2.1445    0.0000 O   0  0  0  0  0  0  0  0  0  0  0  0\\n    0.7186   -1.1252    0.0000 C   0  0  0  0  0  0  0  0  0  0  0  0\\n    0.0000   -0.7186    0.0000 O   0  0  0  0  0  0  0  0  0  0  0  0\\n  1  2  1  0\\n  1  3  1  0\\n  1  4  1  0\\n  1 13  1  0\\n  4  5  1  6\\n  4  6  1  0\\n  6  7  2  0\\n  6  8  1  0\\n  8  9  1  0\\n  9 10  1  0\\n 10 11  1  0\\n 11 12  1  0\\n 13 14  1  0\\nM  END\\n\",\"ROMol\");\n",
       "\tviewer_17173801829131012.setStyle({\"stick\": {}});\n",
       "\tviewer_17173801829131012.rotate(45,\"y\");\n",
       "\tviewer_17173801829131012.zoomTo();\n",
       "viewer_17173801829131012.render();\n",
       "});\n",
       "</script>"
      ]
     },
     "metadata": {},
     "output_type": "display_data"
    },
    {
     "name": "stdout",
     "output_type": "stream",
     "text": [
      "SMILES notation: CN(C(=O)CN(CCO)CC(=O)N(C)C(C)(C)Cc1ccccc1)C(C)(C)Cc1ccccc1\n",
      "Target SR-MMP = 0, Predictions SR-MMP = 0\n",
      "==================================================\n",
      "SMILES notation: CC(C)(CO)[C@@H](O)C(=O)NCCCO\n",
      "Rotate me!\n"
     ]
    },
    {
     "data": {
      "application/3dmoljs_load.v0": "<div id=\"3dmolviewer_1717380182934303\"  style=\"position: relative; width: 300px; height: 300px;\">\n        <p id=\"3dmolwarning_1717380182934303\" style=\"background-color:#ffcccc;color:black\">3Dmol.js failed to load for some reason.  Please check your browser console for error messages.<br></p>\n        </div>\n<script>\n\nvar loadScriptAsync = function(uri){\n  return new Promise((resolve, reject) => {\n    //this is to ignore the existence of requirejs amd\n    var savedexports, savedmodule;\n    if (typeof exports !== 'undefined') savedexports = exports;\n    else exports = {}\n    if (typeof module !== 'undefined') savedmodule = module;\n    else module = {}\n\n    var tag = document.createElement('script');\n    tag.src = uri;\n    tag.async = true;\n    tag.onload = () => {\n        exports = savedexports;\n        module = savedmodule;\n        resolve();\n    };\n  var firstScriptTag = document.getElementsByTagName('script')[0];\n  firstScriptTag.parentNode.insertBefore(tag, firstScriptTag);\n});\n};\n\nif(typeof $3Dmolpromise === 'undefined') {\n$3Dmolpromise = null;\n  $3Dmolpromise = loadScriptAsync('https://cdnjs.cloudflare.com/ajax/libs/3Dmol/2.1.0/3Dmol-min.js');\n}\n\nvar viewer_1717380182934303 = null;\nvar warn = document.getElementById(\"3dmolwarning_1717380182934303\");\nif(warn) {\n    warn.parentNode.removeChild(warn);\n}\n$3Dmolpromise.then(function() {\nviewer_1717380182934303 = $3Dmol.createViewer(document.getElementById(\"3dmolviewer_1717380182934303\"),{backgroundColor:\"white\"});\nviewer_1717380182934303.zoomTo();\n\tviewer_1717380182934303.addModel(\"NCGC00186658-01\\n     RDKit          2D\\n\\n 14 13  0  0  1  0  0  0  0  0999 V2000\\n    1.4259   -0.7186    0.0000 C   0  0  0  0  0  0  0  0  0  0  0  0\\n    2.1445   -0.2952    0.0000 C   0  0  0  0  0  0  0  0  0  0  0  0\\n    1.0193    0.0000    0.0000 C   0  0  0  0  0  0  0  0  0  0  0  0\\n    1.8492   -1.4259    0.0000 C   0  0  0  0  0  0  0  0  0  0  0  0\\n    1.4259   -2.1445    0.0000 O   0  0  0  0  0  0  0  0  0  0  0  0\\n    2.6736   -1.4259    0.0000 C   0  0  0  0  0  0  0  0  0  0  0  0\\n    3.0858   -2.1445    0.0000 O   0  0  0  0  0  0  0  0  0  0  0  0\\n    3.0858   -0.7186    0.0000 N   0  0  0  0  0  0  0  0  0  0  0  0\\n    3.9157   -0.7186    0.0000 C   0  0  0  0  0  0  0  0  0  0  0  0\\n    4.3335   -1.4259    0.0000 C   0  0  0  0  0  0  0  0  0  0  0  0\\n    5.1635   -1.4259    0.0000 C   0  0  0  0  0  0  0  0  0  0  0  0\\n    5.5701   -2.1445    0.0000 O   0  0  0  0  0  0  0  0  0  0  0  0\\n    0.7186   -1.1252    0.0000 C   0  0  0  0  0  0  0  0  0  0  0  0\\n    0.0000   -0.7186    0.0000 O   0  0  0  0  0  0  0  0  0  0  0  0\\n  1  2  1  0\\n  1  3  1  0\\n  1  4  1  0\\n  1 13  1  0\\n  4  5  1  6\\n  4  6  1  0\\n  6  7  2  0\\n  6  8  1  0\\n  8  9  1  0\\n  9 10  1  0\\n 10 11  1  0\\n 11 12  1  0\\n 13 14  1  0\\nM  END\\n\",\"ROMol\");\n\tviewer_1717380182934303.setStyle({\"stick\": {}});\n\tviewer_1717380182934303.rotate(45,\"y\");\n\tviewer_1717380182934303.zoomTo();\nviewer_1717380182934303.render();\n});\n</script>",
      "text/html": [
       "<div id=\"3dmolviewer_1717380182934303\"  style=\"position: relative; width: 300px; height: 300px;\">\n",
       "        <p id=\"3dmolwarning_1717380182934303\" style=\"background-color:#ffcccc;color:black\">3Dmol.js failed to load for some reason.  Please check your browser console for error messages.<br></p>\n",
       "        </div>\n",
       "<script>\n",
       "\n",
       "var loadScriptAsync = function(uri){\n",
       "  return new Promise((resolve, reject) => {\n",
       "    //this is to ignore the existence of requirejs amd\n",
       "    var savedexports, savedmodule;\n",
       "    if (typeof exports !== 'undefined') savedexports = exports;\n",
       "    else exports = {}\n",
       "    if (typeof module !== 'undefined') savedmodule = module;\n",
       "    else module = {}\n",
       "\n",
       "    var tag = document.createElement('script');\n",
       "    tag.src = uri;\n",
       "    tag.async = true;\n",
       "    tag.onload = () => {\n",
       "        exports = savedexports;\n",
       "        module = savedmodule;\n",
       "        resolve();\n",
       "    };\n",
       "  var firstScriptTag = document.getElementsByTagName('script')[0];\n",
       "  firstScriptTag.parentNode.insertBefore(tag, firstScriptTag);\n",
       "});\n",
       "};\n",
       "\n",
       "if(typeof $3Dmolpromise === 'undefined') {\n",
       "$3Dmolpromise = null;\n",
       "  $3Dmolpromise = loadScriptAsync('https://cdnjs.cloudflare.com/ajax/libs/3Dmol/2.1.0/3Dmol-min.js');\n",
       "}\n",
       "\n",
       "var viewer_1717380182934303 = null;\n",
       "var warn = document.getElementById(\"3dmolwarning_1717380182934303\");\n",
       "if(warn) {\n",
       "    warn.parentNode.removeChild(warn);\n",
       "}\n",
       "$3Dmolpromise.then(function() {\n",
       "viewer_1717380182934303 = $3Dmol.createViewer(document.getElementById(\"3dmolviewer_1717380182934303\"),{backgroundColor:\"white\"});\n",
       "viewer_1717380182934303.zoomTo();\n",
       "\tviewer_1717380182934303.addModel(\"NCGC00186658-01\\n     RDKit          2D\\n\\n 14 13  0  0  1  0  0  0  0  0999 V2000\\n    1.4259   -0.7186    0.0000 C   0  0  0  0  0  0  0  0  0  0  0  0\\n    2.1445   -0.2952    0.0000 C   0  0  0  0  0  0  0  0  0  0  0  0\\n    1.0193    0.0000    0.0000 C   0  0  0  0  0  0  0  0  0  0  0  0\\n    1.8492   -1.4259    0.0000 C   0  0  0  0  0  0  0  0  0  0  0  0\\n    1.4259   -2.1445    0.0000 O   0  0  0  0  0  0  0  0  0  0  0  0\\n    2.6736   -1.4259    0.0000 C   0  0  0  0  0  0  0  0  0  0  0  0\\n    3.0858   -2.1445    0.0000 O   0  0  0  0  0  0  0  0  0  0  0  0\\n    3.0858   -0.7186    0.0000 N   0  0  0  0  0  0  0  0  0  0  0  0\\n    3.9157   -0.7186    0.0000 C   0  0  0  0  0  0  0  0  0  0  0  0\\n    4.3335   -1.4259    0.0000 C   0  0  0  0  0  0  0  0  0  0  0  0\\n    5.1635   -1.4259    0.0000 C   0  0  0  0  0  0  0  0  0  0  0  0\\n    5.5701   -2.1445    0.0000 O   0  0  0  0  0  0  0  0  0  0  0  0\\n    0.7186   -1.1252    0.0000 C   0  0  0  0  0  0  0  0  0  0  0  0\\n    0.0000   -0.7186    0.0000 O   0  0  0  0  0  0  0  0  0  0  0  0\\n  1  2  1  0\\n  1  3  1  0\\n  1  4  1  0\\n  1 13  1  0\\n  4  5  1  6\\n  4  6  1  0\\n  6  7  2  0\\n  6  8  1  0\\n  8  9  1  0\\n  9 10  1  0\\n 10 11  1  0\\n 11 12  1  0\\n 13 14  1  0\\nM  END\\n\",\"ROMol\");\n",
       "\tviewer_1717380182934303.setStyle({\"stick\": {}});\n",
       "\tviewer_1717380182934303.rotate(45,\"y\");\n",
       "\tviewer_1717380182934303.zoomTo();\n",
       "viewer_1717380182934303.render();\n",
       "});\n",
       "</script>"
      ]
     },
     "metadata": {},
     "output_type": "display_data"
    },
    {
     "name": "stdout",
     "output_type": "stream",
     "text": [
      "SMILES notation: CN(C(=O)CN(CCO)CC(=O)N(C)C(C)(C)Cc1ccccc1)C(C)(C)Cc1ccccc1\n",
      "Target NR-ER = 0, Predictions NR-ER = 0\n",
      "==================================================\n",
      "SMILES notation: CC(C)(CO)[C@@H](O)C(=O)NCCCO\n",
      "Rotate me!\n"
     ]
    },
    {
     "data": {
      "application/3dmoljs_load.v0": "<div id=\"3dmolviewer_17173801829626262\"  style=\"position: relative; width: 300px; height: 300px;\">\n        <p id=\"3dmolwarning_17173801829626262\" style=\"background-color:#ffcccc;color:black\">3Dmol.js failed to load for some reason.  Please check your browser console for error messages.<br></p>\n        </div>\n<script>\n\nvar loadScriptAsync = function(uri){\n  return new Promise((resolve, reject) => {\n    //this is to ignore the existence of requirejs amd\n    var savedexports, savedmodule;\n    if (typeof exports !== 'undefined') savedexports = exports;\n    else exports = {}\n    if (typeof module !== 'undefined') savedmodule = module;\n    else module = {}\n\n    var tag = document.createElement('script');\n    tag.src = uri;\n    tag.async = true;\n    tag.onload = () => {\n        exports = savedexports;\n        module = savedmodule;\n        resolve();\n    };\n  var firstScriptTag = document.getElementsByTagName('script')[0];\n  firstScriptTag.parentNode.insertBefore(tag, firstScriptTag);\n});\n};\n\nif(typeof $3Dmolpromise === 'undefined') {\n$3Dmolpromise = null;\n  $3Dmolpromise = loadScriptAsync('https://cdnjs.cloudflare.com/ajax/libs/3Dmol/2.1.0/3Dmol-min.js');\n}\n\nvar viewer_17173801829626262 = null;\nvar warn = document.getElementById(\"3dmolwarning_17173801829626262\");\nif(warn) {\n    warn.parentNode.removeChild(warn);\n}\n$3Dmolpromise.then(function() {\nviewer_17173801829626262 = $3Dmol.createViewer(document.getElementById(\"3dmolviewer_17173801829626262\"),{backgroundColor:\"white\"});\nviewer_17173801829626262.zoomTo();\n\tviewer_17173801829626262.addModel(\"NCGC00186658-01\\n     RDKit          2D\\n\\n 14 13  0  0  1  0  0  0  0  0999 V2000\\n    1.4259   -0.7186    0.0000 C   0  0  0  0  0  0  0  0  0  0  0  0\\n    2.1445   -0.2952    0.0000 C   0  0  0  0  0  0  0  0  0  0  0  0\\n    1.0193    0.0000    0.0000 C   0  0  0  0  0  0  0  0  0  0  0  0\\n    1.8492   -1.4259    0.0000 C   0  0  0  0  0  0  0  0  0  0  0  0\\n    1.4259   -2.1445    0.0000 O   0  0  0  0  0  0  0  0  0  0  0  0\\n    2.6736   -1.4259    0.0000 C   0  0  0  0  0  0  0  0  0  0  0  0\\n    3.0858   -2.1445    0.0000 O   0  0  0  0  0  0  0  0  0  0  0  0\\n    3.0858   -0.7186    0.0000 N   0  0  0  0  0  0  0  0  0  0  0  0\\n    3.9157   -0.7186    0.0000 C   0  0  0  0  0  0  0  0  0  0  0  0\\n    4.3335   -1.4259    0.0000 C   0  0  0  0  0  0  0  0  0  0  0  0\\n    5.1635   -1.4259    0.0000 C   0  0  0  0  0  0  0  0  0  0  0  0\\n    5.5701   -2.1445    0.0000 O   0  0  0  0  0  0  0  0  0  0  0  0\\n    0.7186   -1.1252    0.0000 C   0  0  0  0  0  0  0  0  0  0  0  0\\n    0.0000   -0.7186    0.0000 O   0  0  0  0  0  0  0  0  0  0  0  0\\n  1  2  1  0\\n  1  3  1  0\\n  1  4  1  0\\n  1 13  1  0\\n  4  5  1  6\\n  4  6  1  0\\n  6  7  2  0\\n  6  8  1  0\\n  8  9  1  0\\n  9 10  1  0\\n 10 11  1  0\\n 11 12  1  0\\n 13 14  1  0\\nM  END\\n\",\"ROMol\");\n\tviewer_17173801829626262.setStyle({\"stick\": {}});\n\tviewer_17173801829626262.rotate(45,\"y\");\n\tviewer_17173801829626262.zoomTo();\nviewer_17173801829626262.render();\n});\n</script>",
      "text/html": [
       "<div id=\"3dmolviewer_17173801829626262\"  style=\"position: relative; width: 300px; height: 300px;\">\n",
       "        <p id=\"3dmolwarning_17173801829626262\" style=\"background-color:#ffcccc;color:black\">3Dmol.js failed to load for some reason.  Please check your browser console for error messages.<br></p>\n",
       "        </div>\n",
       "<script>\n",
       "\n",
       "var loadScriptAsync = function(uri){\n",
       "  return new Promise((resolve, reject) => {\n",
       "    //this is to ignore the existence of requirejs amd\n",
       "    var savedexports, savedmodule;\n",
       "    if (typeof exports !== 'undefined') savedexports = exports;\n",
       "    else exports = {}\n",
       "    if (typeof module !== 'undefined') savedmodule = module;\n",
       "    else module = {}\n",
       "\n",
       "    var tag = document.createElement('script');\n",
       "    tag.src = uri;\n",
       "    tag.async = true;\n",
       "    tag.onload = () => {\n",
       "        exports = savedexports;\n",
       "        module = savedmodule;\n",
       "        resolve();\n",
       "    };\n",
       "  var firstScriptTag = document.getElementsByTagName('script')[0];\n",
       "  firstScriptTag.parentNode.insertBefore(tag, firstScriptTag);\n",
       "});\n",
       "};\n",
       "\n",
       "if(typeof $3Dmolpromise === 'undefined') {\n",
       "$3Dmolpromise = null;\n",
       "  $3Dmolpromise = loadScriptAsync('https://cdnjs.cloudflare.com/ajax/libs/3Dmol/2.1.0/3Dmol-min.js');\n",
       "}\n",
       "\n",
       "var viewer_17173801829626262 = null;\n",
       "var warn = document.getElementById(\"3dmolwarning_17173801829626262\");\n",
       "if(warn) {\n",
       "    warn.parentNode.removeChild(warn);\n",
       "}\n",
       "$3Dmolpromise.then(function() {\n",
       "viewer_17173801829626262 = $3Dmol.createViewer(document.getElementById(\"3dmolviewer_17173801829626262\"),{backgroundColor:\"white\"});\n",
       "viewer_17173801829626262.zoomTo();\n",
       "\tviewer_17173801829626262.addModel(\"NCGC00186658-01\\n     RDKit          2D\\n\\n 14 13  0  0  1  0  0  0  0  0999 V2000\\n    1.4259   -0.7186    0.0000 C   0  0  0  0  0  0  0  0  0  0  0  0\\n    2.1445   -0.2952    0.0000 C   0  0  0  0  0  0  0  0  0  0  0  0\\n    1.0193    0.0000    0.0000 C   0  0  0  0  0  0  0  0  0  0  0  0\\n    1.8492   -1.4259    0.0000 C   0  0  0  0  0  0  0  0  0  0  0  0\\n    1.4259   -2.1445    0.0000 O   0  0  0  0  0  0  0  0  0  0  0  0\\n    2.6736   -1.4259    0.0000 C   0  0  0  0  0  0  0  0  0  0  0  0\\n    3.0858   -2.1445    0.0000 O   0  0  0  0  0  0  0  0  0  0  0  0\\n    3.0858   -0.7186    0.0000 N   0  0  0  0  0  0  0  0  0  0  0  0\\n    3.9157   -0.7186    0.0000 C   0  0  0  0  0  0  0  0  0  0  0  0\\n    4.3335   -1.4259    0.0000 C   0  0  0  0  0  0  0  0  0  0  0  0\\n    5.1635   -1.4259    0.0000 C   0  0  0  0  0  0  0  0  0  0  0  0\\n    5.5701   -2.1445    0.0000 O   0  0  0  0  0  0  0  0  0  0  0  0\\n    0.7186   -1.1252    0.0000 C   0  0  0  0  0  0  0  0  0  0  0  0\\n    0.0000   -0.7186    0.0000 O   0  0  0  0  0  0  0  0  0  0  0  0\\n  1  2  1  0\\n  1  3  1  0\\n  1  4  1  0\\n  1 13  1  0\\n  4  5  1  6\\n  4  6  1  0\\n  6  7  2  0\\n  6  8  1  0\\n  8  9  1  0\\n  9 10  1  0\\n 10 11  1  0\\n 11 12  1  0\\n 13 14  1  0\\nM  END\\n\",\"ROMol\");\n",
       "\tviewer_17173801829626262.setStyle({\"stick\": {}});\n",
       "\tviewer_17173801829626262.rotate(45,\"y\");\n",
       "\tviewer_17173801829626262.zoomTo();\n",
       "viewer_17173801829626262.render();\n",
       "});\n",
       "</script>"
      ]
     },
     "metadata": {},
     "output_type": "display_data"
    },
    {
     "name": "stdout",
     "output_type": "stream",
     "text": [
      "SMILES notation: CN(C(=O)CN(CCO)CC(=O)N(C)C(C)(C)Cc1ccccc1)C(C)(C)Cc1ccccc1\n",
      "Target NR-PPAR-gamma = 0, Predictions NR-PPAR-gamma = 0\n",
      "==================================================\n",
      "SMILES notation: CC(C)(CO)[C@@H](O)C(=O)NCCCO\n",
      "Rotate me!\n"
     ]
    },
    {
     "data": {
      "application/3dmoljs_load.v0": "<div id=\"3dmolviewer_17173801829904802\"  style=\"position: relative; width: 300px; height: 300px;\">\n        <p id=\"3dmolwarning_17173801829904802\" style=\"background-color:#ffcccc;color:black\">3Dmol.js failed to load for some reason.  Please check your browser console for error messages.<br></p>\n        </div>\n<script>\n\nvar loadScriptAsync = function(uri){\n  return new Promise((resolve, reject) => {\n    //this is to ignore the existence of requirejs amd\n    var savedexports, savedmodule;\n    if (typeof exports !== 'undefined') savedexports = exports;\n    else exports = {}\n    if (typeof module !== 'undefined') savedmodule = module;\n    else module = {}\n\n    var tag = document.createElement('script');\n    tag.src = uri;\n    tag.async = true;\n    tag.onload = () => {\n        exports = savedexports;\n        module = savedmodule;\n        resolve();\n    };\n  var firstScriptTag = document.getElementsByTagName('script')[0];\n  firstScriptTag.parentNode.insertBefore(tag, firstScriptTag);\n});\n};\n\nif(typeof $3Dmolpromise === 'undefined') {\n$3Dmolpromise = null;\n  $3Dmolpromise = loadScriptAsync('https://cdnjs.cloudflare.com/ajax/libs/3Dmol/2.1.0/3Dmol-min.js');\n}\n\nvar viewer_17173801829904802 = null;\nvar warn = document.getElementById(\"3dmolwarning_17173801829904802\");\nif(warn) {\n    warn.parentNode.removeChild(warn);\n}\n$3Dmolpromise.then(function() {\nviewer_17173801829904802 = $3Dmol.createViewer(document.getElementById(\"3dmolviewer_17173801829904802\"),{backgroundColor:\"white\"});\nviewer_17173801829904802.zoomTo();\n\tviewer_17173801829904802.addModel(\"NCGC00186658-01\\n     RDKit          2D\\n\\n 14 13  0  0  1  0  0  0  0  0999 V2000\\n    1.4259   -0.7186    0.0000 C   0  0  0  0  0  0  0  0  0  0  0  0\\n    2.1445   -0.2952    0.0000 C   0  0  0  0  0  0  0  0  0  0  0  0\\n    1.0193    0.0000    0.0000 C   0  0  0  0  0  0  0  0  0  0  0  0\\n    1.8492   -1.4259    0.0000 C   0  0  0  0  0  0  0  0  0  0  0  0\\n    1.4259   -2.1445    0.0000 O   0  0  0  0  0  0  0  0  0  0  0  0\\n    2.6736   -1.4259    0.0000 C   0  0  0  0  0  0  0  0  0  0  0  0\\n    3.0858   -2.1445    0.0000 O   0  0  0  0  0  0  0  0  0  0  0  0\\n    3.0858   -0.7186    0.0000 N   0  0  0  0  0  0  0  0  0  0  0  0\\n    3.9157   -0.7186    0.0000 C   0  0  0  0  0  0  0  0  0  0  0  0\\n    4.3335   -1.4259    0.0000 C   0  0  0  0  0  0  0  0  0  0  0  0\\n    5.1635   -1.4259    0.0000 C   0  0  0  0  0  0  0  0  0  0  0  0\\n    5.5701   -2.1445    0.0000 O   0  0  0  0  0  0  0  0  0  0  0  0\\n    0.7186   -1.1252    0.0000 C   0  0  0  0  0  0  0  0  0  0  0  0\\n    0.0000   -0.7186    0.0000 O   0  0  0  0  0  0  0  0  0  0  0  0\\n  1  2  1  0\\n  1  3  1  0\\n  1  4  1  0\\n  1 13  1  0\\n  4  5  1  6\\n  4  6  1  0\\n  6  7  2  0\\n  6  8  1  0\\n  8  9  1  0\\n  9 10  1  0\\n 10 11  1  0\\n 11 12  1  0\\n 13 14  1  0\\nM  END\\n\",\"ROMol\");\n\tviewer_17173801829904802.setStyle({\"stick\": {}});\n\tviewer_17173801829904802.rotate(45,\"y\");\n\tviewer_17173801829904802.zoomTo();\nviewer_17173801829904802.render();\n});\n</script>",
      "text/html": [
       "<div id=\"3dmolviewer_17173801829904802\"  style=\"position: relative; width: 300px; height: 300px;\">\n",
       "        <p id=\"3dmolwarning_17173801829904802\" style=\"background-color:#ffcccc;color:black\">3Dmol.js failed to load for some reason.  Please check your browser console for error messages.<br></p>\n",
       "        </div>\n",
       "<script>\n",
       "\n",
       "var loadScriptAsync = function(uri){\n",
       "  return new Promise((resolve, reject) => {\n",
       "    //this is to ignore the existence of requirejs amd\n",
       "    var savedexports, savedmodule;\n",
       "    if (typeof exports !== 'undefined') savedexports = exports;\n",
       "    else exports = {}\n",
       "    if (typeof module !== 'undefined') savedmodule = module;\n",
       "    else module = {}\n",
       "\n",
       "    var tag = document.createElement('script');\n",
       "    tag.src = uri;\n",
       "    tag.async = true;\n",
       "    tag.onload = () => {\n",
       "        exports = savedexports;\n",
       "        module = savedmodule;\n",
       "        resolve();\n",
       "    };\n",
       "  var firstScriptTag = document.getElementsByTagName('script')[0];\n",
       "  firstScriptTag.parentNode.insertBefore(tag, firstScriptTag);\n",
       "});\n",
       "};\n",
       "\n",
       "if(typeof $3Dmolpromise === 'undefined') {\n",
       "$3Dmolpromise = null;\n",
       "  $3Dmolpromise = loadScriptAsync('https://cdnjs.cloudflare.com/ajax/libs/3Dmol/2.1.0/3Dmol-min.js');\n",
       "}\n",
       "\n",
       "var viewer_17173801829904802 = null;\n",
       "var warn = document.getElementById(\"3dmolwarning_17173801829904802\");\n",
       "if(warn) {\n",
       "    warn.parentNode.removeChild(warn);\n",
       "}\n",
       "$3Dmolpromise.then(function() {\n",
       "viewer_17173801829904802 = $3Dmol.createViewer(document.getElementById(\"3dmolviewer_17173801829904802\"),{backgroundColor:\"white\"});\n",
       "viewer_17173801829904802.zoomTo();\n",
       "\tviewer_17173801829904802.addModel(\"NCGC00186658-01\\n     RDKit          2D\\n\\n 14 13  0  0  1  0  0  0  0  0999 V2000\\n    1.4259   -0.7186    0.0000 C   0  0  0  0  0  0  0  0  0  0  0  0\\n    2.1445   -0.2952    0.0000 C   0  0  0  0  0  0  0  0  0  0  0  0\\n    1.0193    0.0000    0.0000 C   0  0  0  0  0  0  0  0  0  0  0  0\\n    1.8492   -1.4259    0.0000 C   0  0  0  0  0  0  0  0  0  0  0  0\\n    1.4259   -2.1445    0.0000 O   0  0  0  0  0  0  0  0  0  0  0  0\\n    2.6736   -1.4259    0.0000 C   0  0  0  0  0  0  0  0  0  0  0  0\\n    3.0858   -2.1445    0.0000 O   0  0  0  0  0  0  0  0  0  0  0  0\\n    3.0858   -0.7186    0.0000 N   0  0  0  0  0  0  0  0  0  0  0  0\\n    3.9157   -0.7186    0.0000 C   0  0  0  0  0  0  0  0  0  0  0  0\\n    4.3335   -1.4259    0.0000 C   0  0  0  0  0  0  0  0  0  0  0  0\\n    5.1635   -1.4259    0.0000 C   0  0  0  0  0  0  0  0  0  0  0  0\\n    5.5701   -2.1445    0.0000 O   0  0  0  0  0  0  0  0  0  0  0  0\\n    0.7186   -1.1252    0.0000 C   0  0  0  0  0  0  0  0  0  0  0  0\\n    0.0000   -0.7186    0.0000 O   0  0  0  0  0  0  0  0  0  0  0  0\\n  1  2  1  0\\n  1  3  1  0\\n  1  4  1  0\\n  1 13  1  0\\n  4  5  1  6\\n  4  6  1  0\\n  6  7  2  0\\n  6  8  1  0\\n  8  9  1  0\\n  9 10  1  0\\n 10 11  1  0\\n 11 12  1  0\\n 13 14  1  0\\nM  END\\n\",\"ROMol\");\n",
       "\tviewer_17173801829904802.setStyle({\"stick\": {}});\n",
       "\tviewer_17173801829904802.rotate(45,\"y\");\n",
       "\tviewer_17173801829904802.zoomTo();\n",
       "viewer_17173801829904802.render();\n",
       "});\n",
       "</script>"
      ]
     },
     "metadata": {},
     "output_type": "display_data"
    },
    {
     "name": "stdout",
     "output_type": "stream",
     "text": [
      "SMILES notation: CN(C(=O)CN(CCO)CC(=O)N(C)C(C)(C)Cc1ccccc1)C(C)(C)Cc1ccccc1\n",
      "Target SR-p53 = 1, Predictions SR-p53 = 0\n",
      "==================================================\n",
      "SMILES notation: CC(C)(CO)[C@@H](O)C(=O)NCCCO\n",
      "Rotate me!\n"
     ]
    },
    {
     "data": {
      "application/3dmoljs_load.v0": "<div id=\"3dmolviewer_17173801830131073\"  style=\"position: relative; width: 300px; height: 300px;\">\n        <p id=\"3dmolwarning_17173801830131073\" style=\"background-color:#ffcccc;color:black\">3Dmol.js failed to load for some reason.  Please check your browser console for error messages.<br></p>\n        </div>\n<script>\n\nvar loadScriptAsync = function(uri){\n  return new Promise((resolve, reject) => {\n    //this is to ignore the existence of requirejs amd\n    var savedexports, savedmodule;\n    if (typeof exports !== 'undefined') savedexports = exports;\n    else exports = {}\n    if (typeof module !== 'undefined') savedmodule = module;\n    else module = {}\n\n    var tag = document.createElement('script');\n    tag.src = uri;\n    tag.async = true;\n    tag.onload = () => {\n        exports = savedexports;\n        module = savedmodule;\n        resolve();\n    };\n  var firstScriptTag = document.getElementsByTagName('script')[0];\n  firstScriptTag.parentNode.insertBefore(tag, firstScriptTag);\n});\n};\n\nif(typeof $3Dmolpromise === 'undefined') {\n$3Dmolpromise = null;\n  $3Dmolpromise = loadScriptAsync('https://cdnjs.cloudflare.com/ajax/libs/3Dmol/2.1.0/3Dmol-min.js');\n}\n\nvar viewer_17173801830131073 = null;\nvar warn = document.getElementById(\"3dmolwarning_17173801830131073\");\nif(warn) {\n    warn.parentNode.removeChild(warn);\n}\n$3Dmolpromise.then(function() {\nviewer_17173801830131073 = $3Dmol.createViewer(document.getElementById(\"3dmolviewer_17173801830131073\"),{backgroundColor:\"white\"});\nviewer_17173801830131073.zoomTo();\n\tviewer_17173801830131073.addModel(\"NCGC00186658-01\\n     RDKit          2D\\n\\n 14 13  0  0  1  0  0  0  0  0999 V2000\\n    1.4259   -0.7186    0.0000 C   0  0  0  0  0  0  0  0  0  0  0  0\\n    2.1445   -0.2952    0.0000 C   0  0  0  0  0  0  0  0  0  0  0  0\\n    1.0193    0.0000    0.0000 C   0  0  0  0  0  0  0  0  0  0  0  0\\n    1.8492   -1.4259    0.0000 C   0  0  0  0  0  0  0  0  0  0  0  0\\n    1.4259   -2.1445    0.0000 O   0  0  0  0  0  0  0  0  0  0  0  0\\n    2.6736   -1.4259    0.0000 C   0  0  0  0  0  0  0  0  0  0  0  0\\n    3.0858   -2.1445    0.0000 O   0  0  0  0  0  0  0  0  0  0  0  0\\n    3.0858   -0.7186    0.0000 N   0  0  0  0  0  0  0  0  0  0  0  0\\n    3.9157   -0.7186    0.0000 C   0  0  0  0  0  0  0  0  0  0  0  0\\n    4.3335   -1.4259    0.0000 C   0  0  0  0  0  0  0  0  0  0  0  0\\n    5.1635   -1.4259    0.0000 C   0  0  0  0  0  0  0  0  0  0  0  0\\n    5.5701   -2.1445    0.0000 O   0  0  0  0  0  0  0  0  0  0  0  0\\n    0.7186   -1.1252    0.0000 C   0  0  0  0  0  0  0  0  0  0  0  0\\n    0.0000   -0.7186    0.0000 O   0  0  0  0  0  0  0  0  0  0  0  0\\n  1  2  1  0\\n  1  3  1  0\\n  1  4  1  0\\n  1 13  1  0\\n  4  5  1  6\\n  4  6  1  0\\n  6  7  2  0\\n  6  8  1  0\\n  8  9  1  0\\n  9 10  1  0\\n 10 11  1  0\\n 11 12  1  0\\n 13 14  1  0\\nM  END\\n\",\"ROMol\");\n\tviewer_17173801830131073.setStyle({\"stick\": {}});\n\tviewer_17173801830131073.rotate(45,\"y\");\n\tviewer_17173801830131073.zoomTo();\nviewer_17173801830131073.render();\n});\n</script>",
      "text/html": [
       "<div id=\"3dmolviewer_17173801830131073\"  style=\"position: relative; width: 300px; height: 300px;\">\n",
       "        <p id=\"3dmolwarning_17173801830131073\" style=\"background-color:#ffcccc;color:black\">3Dmol.js failed to load for some reason.  Please check your browser console for error messages.<br></p>\n",
       "        </div>\n",
       "<script>\n",
       "\n",
       "var loadScriptAsync = function(uri){\n",
       "  return new Promise((resolve, reject) => {\n",
       "    //this is to ignore the existence of requirejs amd\n",
       "    var savedexports, savedmodule;\n",
       "    if (typeof exports !== 'undefined') savedexports = exports;\n",
       "    else exports = {}\n",
       "    if (typeof module !== 'undefined') savedmodule = module;\n",
       "    else module = {}\n",
       "\n",
       "    var tag = document.createElement('script');\n",
       "    tag.src = uri;\n",
       "    tag.async = true;\n",
       "    tag.onload = () => {\n",
       "        exports = savedexports;\n",
       "        module = savedmodule;\n",
       "        resolve();\n",
       "    };\n",
       "  var firstScriptTag = document.getElementsByTagName('script')[0];\n",
       "  firstScriptTag.parentNode.insertBefore(tag, firstScriptTag);\n",
       "});\n",
       "};\n",
       "\n",
       "if(typeof $3Dmolpromise === 'undefined') {\n",
       "$3Dmolpromise = null;\n",
       "  $3Dmolpromise = loadScriptAsync('https://cdnjs.cloudflare.com/ajax/libs/3Dmol/2.1.0/3Dmol-min.js');\n",
       "}\n",
       "\n",
       "var viewer_17173801830131073 = null;\n",
       "var warn = document.getElementById(\"3dmolwarning_17173801830131073\");\n",
       "if(warn) {\n",
       "    warn.parentNode.removeChild(warn);\n",
       "}\n",
       "$3Dmolpromise.then(function() {\n",
       "viewer_17173801830131073 = $3Dmol.createViewer(document.getElementById(\"3dmolviewer_17173801830131073\"),{backgroundColor:\"white\"});\n",
       "viewer_17173801830131073.zoomTo();\n",
       "\tviewer_17173801830131073.addModel(\"NCGC00186658-01\\n     RDKit          2D\\n\\n 14 13  0  0  1  0  0  0  0  0999 V2000\\n    1.4259   -0.7186    0.0000 C   0  0  0  0  0  0  0  0  0  0  0  0\\n    2.1445   -0.2952    0.0000 C   0  0  0  0  0  0  0  0  0  0  0  0\\n    1.0193    0.0000    0.0000 C   0  0  0  0  0  0  0  0  0  0  0  0\\n    1.8492   -1.4259    0.0000 C   0  0  0  0  0  0  0  0  0  0  0  0\\n    1.4259   -2.1445    0.0000 O   0  0  0  0  0  0  0  0  0  0  0  0\\n    2.6736   -1.4259    0.0000 C   0  0  0  0  0  0  0  0  0  0  0  0\\n    3.0858   -2.1445    0.0000 O   0  0  0  0  0  0  0  0  0  0  0  0\\n    3.0858   -0.7186    0.0000 N   0  0  0  0  0  0  0  0  0  0  0  0\\n    3.9157   -0.7186    0.0000 C   0  0  0  0  0  0  0  0  0  0  0  0\\n    4.3335   -1.4259    0.0000 C   0  0  0  0  0  0  0  0  0  0  0  0\\n    5.1635   -1.4259    0.0000 C   0  0  0  0  0  0  0  0  0  0  0  0\\n    5.5701   -2.1445    0.0000 O   0  0  0  0  0  0  0  0  0  0  0  0\\n    0.7186   -1.1252    0.0000 C   0  0  0  0  0  0  0  0  0  0  0  0\\n    0.0000   -0.7186    0.0000 O   0  0  0  0  0  0  0  0  0  0  0  0\\n  1  2  1  0\\n  1  3  1  0\\n  1  4  1  0\\n  1 13  1  0\\n  4  5  1  6\\n  4  6  1  0\\n  6  7  2  0\\n  6  8  1  0\\n  8  9  1  0\\n  9 10  1  0\\n 10 11  1  0\\n 11 12  1  0\\n 13 14  1  0\\nM  END\\n\",\"ROMol\");\n",
       "\tviewer_17173801830131073.setStyle({\"stick\": {}});\n",
       "\tviewer_17173801830131073.rotate(45,\"y\");\n",
       "\tviewer_17173801830131073.zoomTo();\n",
       "viewer_17173801830131073.render();\n",
       "});\n",
       "</script>"
      ]
     },
     "metadata": {},
     "output_type": "display_data"
    },
    {
     "name": "stdout",
     "output_type": "stream",
     "text": [
      "SMILES notation: CN(C(=O)CN(CCO)CC(=O)N(C)C(C)(C)Cc1ccccc1)C(C)(C)Cc1ccccc1\n",
      "Target SR-ATAD5 = 0, Predictions SR-ATAD5 = 0\n",
      "==================================================\n",
      "SMILES notation: CC(C)(CO)[C@@H](O)C(=O)NCCCO\n",
      "Rotate me!\n"
     ]
    },
    {
     "data": {
      "application/3dmoljs_load.v0": "<div id=\"3dmolviewer_17173801830392334\"  style=\"position: relative; width: 300px; height: 300px;\">\n        <p id=\"3dmolwarning_17173801830392334\" style=\"background-color:#ffcccc;color:black\">3Dmol.js failed to load for some reason.  Please check your browser console for error messages.<br></p>\n        </div>\n<script>\n\nvar loadScriptAsync = function(uri){\n  return new Promise((resolve, reject) => {\n    //this is to ignore the existence of requirejs amd\n    var savedexports, savedmodule;\n    if (typeof exports !== 'undefined') savedexports = exports;\n    else exports = {}\n    if (typeof module !== 'undefined') savedmodule = module;\n    else module = {}\n\n    var tag = document.createElement('script');\n    tag.src = uri;\n    tag.async = true;\n    tag.onload = () => {\n        exports = savedexports;\n        module = savedmodule;\n        resolve();\n    };\n  var firstScriptTag = document.getElementsByTagName('script')[0];\n  firstScriptTag.parentNode.insertBefore(tag, firstScriptTag);\n});\n};\n\nif(typeof $3Dmolpromise === 'undefined') {\n$3Dmolpromise = null;\n  $3Dmolpromise = loadScriptAsync('https://cdnjs.cloudflare.com/ajax/libs/3Dmol/2.1.0/3Dmol-min.js');\n}\n\nvar viewer_17173801830392334 = null;\nvar warn = document.getElementById(\"3dmolwarning_17173801830392334\");\nif(warn) {\n    warn.parentNode.removeChild(warn);\n}\n$3Dmolpromise.then(function() {\nviewer_17173801830392334 = $3Dmol.createViewer(document.getElementById(\"3dmolviewer_17173801830392334\"),{backgroundColor:\"white\"});\nviewer_17173801830392334.zoomTo();\n\tviewer_17173801830392334.addModel(\"NCGC00186658-01\\n     RDKit          2D\\n\\n 14 13  0  0  1  0  0  0  0  0999 V2000\\n    1.4259   -0.7186    0.0000 C   0  0  0  0  0  0  0  0  0  0  0  0\\n    2.1445   -0.2952    0.0000 C   0  0  0  0  0  0  0  0  0  0  0  0\\n    1.0193    0.0000    0.0000 C   0  0  0  0  0  0  0  0  0  0  0  0\\n    1.8492   -1.4259    0.0000 C   0  0  0  0  0  0  0  0  0  0  0  0\\n    1.4259   -2.1445    0.0000 O   0  0  0  0  0  0  0  0  0  0  0  0\\n    2.6736   -1.4259    0.0000 C   0  0  0  0  0  0  0  0  0  0  0  0\\n    3.0858   -2.1445    0.0000 O   0  0  0  0  0  0  0  0  0  0  0  0\\n    3.0858   -0.7186    0.0000 N   0  0  0  0  0  0  0  0  0  0  0  0\\n    3.9157   -0.7186    0.0000 C   0  0  0  0  0  0  0  0  0  0  0  0\\n    4.3335   -1.4259    0.0000 C   0  0  0  0  0  0  0  0  0  0  0  0\\n    5.1635   -1.4259    0.0000 C   0  0  0  0  0  0  0  0  0  0  0  0\\n    5.5701   -2.1445    0.0000 O   0  0  0  0  0  0  0  0  0  0  0  0\\n    0.7186   -1.1252    0.0000 C   0  0  0  0  0  0  0  0  0  0  0  0\\n    0.0000   -0.7186    0.0000 O   0  0  0  0  0  0  0  0  0  0  0  0\\n  1  2  1  0\\n  1  3  1  0\\n  1  4  1  0\\n  1 13  1  0\\n  4  5  1  6\\n  4  6  1  0\\n  6  7  2  0\\n  6  8  1  0\\n  8  9  1  0\\n  9 10  1  0\\n 10 11  1  0\\n 11 12  1  0\\n 13 14  1  0\\nM  END\\n\",\"ROMol\");\n\tviewer_17173801830392334.setStyle({\"stick\": {}});\n\tviewer_17173801830392334.rotate(45,\"y\");\n\tviewer_17173801830392334.zoomTo();\nviewer_17173801830392334.render();\n});\n</script>",
      "text/html": [
       "<div id=\"3dmolviewer_17173801830392334\"  style=\"position: relative; width: 300px; height: 300px;\">\n",
       "        <p id=\"3dmolwarning_17173801830392334\" style=\"background-color:#ffcccc;color:black\">3Dmol.js failed to load for some reason.  Please check your browser console for error messages.<br></p>\n",
       "        </div>\n",
       "<script>\n",
       "\n",
       "var loadScriptAsync = function(uri){\n",
       "  return new Promise((resolve, reject) => {\n",
       "    //this is to ignore the existence of requirejs amd\n",
       "    var savedexports, savedmodule;\n",
       "    if (typeof exports !== 'undefined') savedexports = exports;\n",
       "    else exports = {}\n",
       "    if (typeof module !== 'undefined') savedmodule = module;\n",
       "    else module = {}\n",
       "\n",
       "    var tag = document.createElement('script');\n",
       "    tag.src = uri;\n",
       "    tag.async = true;\n",
       "    tag.onload = () => {\n",
       "        exports = savedexports;\n",
       "        module = savedmodule;\n",
       "        resolve();\n",
       "    };\n",
       "  var firstScriptTag = document.getElementsByTagName('script')[0];\n",
       "  firstScriptTag.parentNode.insertBefore(tag, firstScriptTag);\n",
       "});\n",
       "};\n",
       "\n",
       "if(typeof $3Dmolpromise === 'undefined') {\n",
       "$3Dmolpromise = null;\n",
       "  $3Dmolpromise = loadScriptAsync('https://cdnjs.cloudflare.com/ajax/libs/3Dmol/2.1.0/3Dmol-min.js');\n",
       "}\n",
       "\n",
       "var viewer_17173801830392334 = null;\n",
       "var warn = document.getElementById(\"3dmolwarning_17173801830392334\");\n",
       "if(warn) {\n",
       "    warn.parentNode.removeChild(warn);\n",
       "}\n",
       "$3Dmolpromise.then(function() {\n",
       "viewer_17173801830392334 = $3Dmol.createViewer(document.getElementById(\"3dmolviewer_17173801830392334\"),{backgroundColor:\"white\"});\n",
       "viewer_17173801830392334.zoomTo();\n",
       "\tviewer_17173801830392334.addModel(\"NCGC00186658-01\\n     RDKit          2D\\n\\n 14 13  0  0  1  0  0  0  0  0999 V2000\\n    1.4259   -0.7186    0.0000 C   0  0  0  0  0  0  0  0  0  0  0  0\\n    2.1445   -0.2952    0.0000 C   0  0  0  0  0  0  0  0  0  0  0  0\\n    1.0193    0.0000    0.0000 C   0  0  0  0  0  0  0  0  0  0  0  0\\n    1.8492   -1.4259    0.0000 C   0  0  0  0  0  0  0  0  0  0  0  0\\n    1.4259   -2.1445    0.0000 O   0  0  0  0  0  0  0  0  0  0  0  0\\n    2.6736   -1.4259    0.0000 C   0  0  0  0  0  0  0  0  0  0  0  0\\n    3.0858   -2.1445    0.0000 O   0  0  0  0  0  0  0  0  0  0  0  0\\n    3.0858   -0.7186    0.0000 N   0  0  0  0  0  0  0  0  0  0  0  0\\n    3.9157   -0.7186    0.0000 C   0  0  0  0  0  0  0  0  0  0  0  0\\n    4.3335   -1.4259    0.0000 C   0  0  0  0  0  0  0  0  0  0  0  0\\n    5.1635   -1.4259    0.0000 C   0  0  0  0  0  0  0  0  0  0  0  0\\n    5.5701   -2.1445    0.0000 O   0  0  0  0  0  0  0  0  0  0  0  0\\n    0.7186   -1.1252    0.0000 C   0  0  0  0  0  0  0  0  0  0  0  0\\n    0.0000   -0.7186    0.0000 O   0  0  0  0  0  0  0  0  0  0  0  0\\n  1  2  1  0\\n  1  3  1  0\\n  1  4  1  0\\n  1 13  1  0\\n  4  5  1  6\\n  4  6  1  0\\n  6  7  2  0\\n  6  8  1  0\\n  8  9  1  0\\n  9 10  1  0\\n 10 11  1  0\\n 11 12  1  0\\n 13 14  1  0\\nM  END\\n\",\"ROMol\");\n",
       "\tviewer_17173801830392334.setStyle({\"stick\": {}});\n",
       "\tviewer_17173801830392334.rotate(45,\"y\");\n",
       "\tviewer_17173801830392334.zoomTo();\n",
       "viewer_17173801830392334.render();\n",
       "});\n",
       "</script>"
      ]
     },
     "metadata": {},
     "output_type": "display_data"
    },
    {
     "name": "stdout",
     "output_type": "stream",
     "text": [
      "SMILES notation: CN(C(=O)CN(CCO)CC(=O)N(C)C(C)(C)Cc1ccccc1)C(C)(C)Cc1ccccc1\n",
      "Target NR-AR-LBD = 0, Predictions NR-AR-LBD = 0\n",
      "==================================================\n"
     ]
    }
   ],
   "source": [
    "indicies = np.random.choice(range(len(X_test)), 1)\n",
    "for idx in indicies:\n",
    "  plot_example(models_6, X_test, y_test, df, idx=idx, show_3d=True)"
   ]
  },
  {
   "cell_type": "markdown",
   "id": "dbdaebd4",
   "metadata": {
    "id": "jJx4kIGMaku8"
   },
   "source": [
    "**Example of Toxicity Predictions**"
   ]
  },
  {
   "cell_type": "markdown",
   "id": "954523b3",
   "metadata": {
    "id": "UVxtH3q9a3hp"
   },
   "source": [
    "*Preprocess.*"
   ]
  },
  {
   "cell_type": "code",
   "execution_count": null,
   "id": "da3fccdf",
   "metadata": {
    "id": "ZE_h20eMaayc"
   },
   "outputs": [],
   "source": [
    "# Defining feature columns used during training\n",
    "\n",
    "def sentences2vec(sentences, model_2vec, unseen=None):\n",
    "    keys = set(model_2vec.wv.key_to_index)\n",
    "    vec = []\n",
    "    for sentence in sentences:\n",
    "        this_vec = []\n",
    "        for word in sentence:\n",
    "            if word in keys:\n",
    "                this_vec.append(model_2vec.wv[word])\n",
    "            elif unseen:\n",
    "                this_vec.append(model_2vec.wv[unseen])\n",
    "        if this_vec:\n",
    "            vec.append(np.mean(this_vec, axis=0))\n",
    "        else:\n",
    "            vec.append(np.zeros(model_2vec.vector_size))\n",
    "    return vec\n",
    "\n",
    "\n",
    "def preprocess_smiles(smiles, model):\n",
    "    mol = Chem.MolFromSmiles(smiles)\n",
    "    if mol is None:\n",
    "        return None\n",
    "\n",
    "    # Calculating descriptors\n",
    "    descriptors = [\n",
    "        Descriptors.MolLogP(mol),\n",
    "        Descriptors.MolWt(mol),\n",
    "        Descriptors.TPSA(mol),\n",
    "        Descriptors.HeavyAtomCount(mol),\n",
    "        Descriptors.NumHeteroatoms(mol),\n",
    "        Descriptors.NumHDonors(mol),\n",
    "        Descriptors.NumHAcceptors(mol),\n",
    "        Descriptors.NumRotatableBonds(mol)\n",
    "    ]\n",
    "\n",
    "    # Converting to MolSentence\n",
    "    sentence = MolSentence(mol2alt_sentence(mol, 1))\n",
    "\n",
    "    # Converting sentence to vector using sentences2vec function\n",
    "    vec = sentences2vec([sentence], model_2vec, unseen='UNK')[0]\n",
    "\n",
    "    # Combining descriptors and mol2vec vector into a single feature array\n",
    "    features = np.concatenate([descriptors, vec])\n",
    "\n",
    "    return features"
   ]
  },
  {
   "cell_type": "markdown",
   "id": "83464e60",
   "metadata": {
    "id": "yL_cIplabXRu"
   },
   "source": [
    "*Load models and make predictions.*"
   ]
  },
  {
   "cell_type": "code",
   "execution_count": null,
   "id": "54bd0f93",
   "metadata": {
    "colab": {
     "base_uri": "https://localhost:8080/"
    },
    "id": "YMmRKoUAbWIZ",
    "outputId": "3d1d2899-7461-4e88-bfeb-2305a397bff7"
   },
   "outputs": [
    {
     "name": "stdout",
     "output_type": "stream",
     "text": [
      "Model for SR-HSE loaded successfully.\n",
      "Model for NR-AR loaded successfully.\n",
      "Model for SR-ARE loaded successfully.\n",
      "Model for NR-Aromatase loaded successfully.\n",
      "Model for NR-ER-LBD loaded successfully.\n",
      "Model for NR-AhR loaded successfully.\n",
      "Model for SR-MMP loaded successfully.\n",
      "Model for NR-ER loaded successfully.\n",
      "Model for NR-PPAR-gamma loaded successfully.\n",
      "Model for SR-p53 loaded successfully.\n",
      "Model for SR-ATAD5 loaded successfully.\n",
      "Model for NR-AR-LBD loaded successfully.\n"
     ]
    }
   ],
   "source": [
    "url = 'https://github.com/samoturk/mol2vec_notebooks/raw/master/Notebooks/model_300dim.pkl'\n",
    "file_to_download = requests.get(url, allow_redirects=True)\n",
    "open('model_300dim.pkl', 'wb').write(file_to_download.content)\n",
    "\n",
    "model_2vec = Word2Vec.load('model_300dim.pkl')\n",
    "\n",
    "target_columns = ['SR-HSE', 'NR-AR', 'SR-ARE', 'NR-Aromatase', 'NR-ER-LBD', 'NR-AhR', 'SR-MMP', 'NR-ER', 'NR-PPAR-gamma', 'SR-p53', 'SR-ATAD5', 'NR-AR-LBD']\n",
    "\n",
    "save_dir = \"/content/drive/My Drive/saved_models/model_6\"\n",
    "\n",
    "warnings.filterwarnings(\"ignore\", message=\"X does not have valid feature names, but SVC was fitted with feature names\")\n",
    "\n",
    "models_6 = {}\n",
    "for col in target_columns:\n",
    "    model_path = os.path.join(save_dir, f\"model_6_{col}.pkl\")\n",
    "    if os.path.exists(model_path):\n",
    "        model_loaded = joblib.load(model_path)\n",
    "        models_6[col] = model_loaded\n",
    "        print(f\"Model for {col} loaded successfully.\")\n",
    "    else:\n",
    "        print(f\"Model file for {col} does not exist.\")\n",
    "\n",
    "def predict_models(features, models):\n",
    "    predictions = {}\n",
    "    for col, model in models.items():\n",
    "            prediction = model.predict(features)\n",
    "            predictions[col] = prediction[0][0]\n",
    "    return predictions"
   ]
  },
  {
   "cell_type": "markdown",
   "id": "0f07507d",
   "metadata": {
    "id": "tIh0dG-ccMVK"
   },
   "source": [
    "*Output.*"
   ]
  },
  {
   "cell_type": "code",
   "execution_count": null,
   "id": "685e074d",
   "metadata": {
    "colab": {
     "base_uri": "https://localhost:8080/"
    },
    "id": "ZboYr4IecAOo",
    "outputId": "f31884ac-2b00-489d-9a8b-08c9c1be35f5"
   },
   "outputs": [
    {
     "name": "stdout",
     "output_type": "stream",
     "text": [
      "Prediction for SR-HSE: 0.2713\n",
      "Prediction for NR-AR: 0.2246\n",
      "Prediction for SR-ARE: 0.2517\n",
      "Prediction for NR-Aromatase: 0.2002\n",
      "Prediction for NR-ER-LBD: 0.1382\n",
      "Prediction for NR-AhR: 0.2357\n",
      "Prediction for SR-MMP: 0.1548\n",
      "Prediction for NR-ER: 0.2056\n",
      "Prediction for NR-PPAR-gamma: 0.2304\n",
      "Prediction for SR-p53: 0.1620\n",
      "Prediction for SR-ATAD5: 0.1574\n",
      "Prediction for NR-AR-LBD: 0.2470\n"
     ]
    }
   ],
   "source": [
    "# Example SMILES string\n",
    "smiles = 'C/C=C/C=C/C(O)=O'\n",
    "\n",
    "# Preprocessing the SMILES string\n",
    "features = preprocess_smiles(smiles, model)\n",
    "\n",
    "if features is not None:\n",
    "    # Ensuring the feature array has the correct shape\n",
    "    features = features.reshape(1, -1)\n",
    "\n",
    "    # Making predictions using all models\n",
    "    predictions = {}\n",
    "    for col in target_columns:\n",
    "        model = models_6[col]\n",
    "        if hasattr(model, 'predict_proba'):\n",
    "            y_pred = model.predict_proba(features)\n",
    "            prediction = y_pred[0][1]\n",
    "        elif hasattr(model, 'decision_function'):\n",
    "            decision = model.decision_function(features)\n",
    "            # Converting decision function output to a probability-like score\n",
    "            prediction = 1 / (1 + np.exp(-decision))[0]\n",
    "        else:\n",
    "            prediction = model.predict(features)[0]\n",
    "\n",
    "        predictions[col] = prediction\n",
    "\n",
    "    # Printing predictions\n",
    "    for col, prediction in predictions.items():\n",
    "        print(f\"Prediction for {col}: {prediction:.4f}\")\n",
    "else:\n",
    "    print(\"Invalid SMILES string.\")"
   ]
  }
 ],
 "metadata": {
  "kernelspec": {
   "display_name": "Python 3 (ipykernel)",
   "language": "python",
   "name": "python3"
  },
  "language_info": {
   "codemirror_mode": {
    "name": "ipython",
    "version": 3
   },
   "file_extension": ".py",
   "mimetype": "text/x-python",
   "name": "python",
   "nbconvert_exporter": "python",
   "pygments_lexer": "ipython3",
   "version": "3.9.13"
  }
 },
 "nbformat": 4,
 "nbformat_minor": 5
}
